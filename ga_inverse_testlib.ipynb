{
 "cells": [
  {
   "cell_type": "code",
   "execution_count": 1,
   "metadata": {},
   "outputs": [],
   "source": [
    "# Import library\n",
    "from ga_inverse import *"
   ]
  },
  {
   "cell_type": "code",
   "execution_count": 2,
   "metadata": {},
   "outputs": [],
   "source": [
    "# Initialize gas constants (C3H6, C3H8)\n",
    "diameter_tuple = (np.array([4.03]), np.array([4.16]))\n",
    "mass_tuple = (np.array([42.08]), np.array([44.1]))\n",
    "ascF_tuple = (np.array([0.142]), np.array([0.152]))\n",
    "kD_tuple = (np.array([4.5]), np.array([4.3]))"
   ]
  },
  {
   "cell_type": "code",
   "execution_count": 3,
   "metadata": {},
   "outputs": [],
   "source": [
    "# Read data\n",
    "data_from_file = readData('./MyData.xlsx')\n",
    "training_data, gene_repr_of_training_data, training_x, training_y = prepareDataForLearning(data_from_file)\n"
   ]
  },
  {
   "cell_type": "code",
   "execution_count": 4,
   "metadata": {},
   "outputs": [],
   "source": [
    "# Train model\n",
    "model = trainModel(training_x, training_y)"
   ]
  },
  {
   "cell_type": "code",
   "execution_count": 5,
   "metadata": {},
   "outputs": [],
   "source": [
    "# Prepare GA\n",
    "## Fitness function\n",
    "boundaries_D = np.array([-12.8, -12.2])\n",
    "boundaries_R = np.array([1.9, 2.1])\n",
    "def ga_fitness(solution, solution_idx):\n",
    "    # Build upon default, imported fitness from library\n",
    "    return fitness_base(solution, solution_idx, diameter_tuple, mass_tuple, ascF_tuple, kD_tuple,\n",
    "            boundaries_D, boundaries_R, model)\n"
   ]
  },
  {
   "cell_type": "code",
   "execution_count": 6,
   "metadata": {},
   "outputs": [],
   "source": [
    "# Define single loop\n",
    "def run_one_ga_loop():\n",
    "    # Starting population\n",
    "    starting_population = training_data\n",
    "\n",
    "    # Actual initialization\n",
    "    ga_instance = prepareGA(fitness=ga_fitness, starting_population_data=starting_population,\n",
    "                            num_generations=2, on_generation=None)\n",
    "    \n",
    "    # Run GA\n",
    "    solution, solution_fitness, solution_index = runGA(ga_instance)\n",
    "\n",
    "    # Get best solutions\n",
    "    best_solutions = get_best_solutions(ga_instance)\n",
    "    print(\"Best solutions of loop:\")\n",
    "    print(best_solutions)\n",
    "\n",
    "\n",
    "    # Output also best of the best\n",
    "    best_solution, best_solution_fitness, best_solution_idx = ga_instance.best_solution()\n",
    "\n",
    "    print(\"Parameters of the best loop solution : %s\"%(str(best_solution)))\n",
    "    print(\"Fitness value of the best loop solution = %5.3f\"%(best_solution_fitness))\n",
    "\n",
    "    return best_solutions"
   ]
  },
  {
   "cell_type": "code",
   "execution_count": 17,
   "metadata": {},
   "outputs": [
    {
     "name": "stderr",
     "output_type": "stream",
     "text": [
      "/home/ggianna/runtimeEnvs/mambaforge/inverse-design/lib/python3.10/site-packages/pygad/pygad.py:932: UserWarning: Use the 'save_best_solutions' parameter with caution as it may cause memory overflow when either the number of generations or number of genes is large.\n",
      "  if not self.suppress_warnings: warnings.warn(\"Use the 'save_best_solutions' parameter with caution as it may cause memory overflow when either the number of generations or number of genes is large.\")\n",
      "/home/ggianna/runtimeEnvs/mambaforge/inverse-design/lib/python3.10/site-packages/pygad/pygad.py:940: UserWarning: Use the 'save_solutions' parameter with caution as it may cause memory overflow when either the number of generations, number of genes, or number of solutions in population is large.\n",
      "  if not self.suppress_warnings: warnings.warn(\"Use the 'save_solutions' parameter with caution as it may cause memory overflow when either the number of generations, number of genes, or number of solutions in population is large.\")\n"
     ]
    },
    {
     "name": "stdout",
     "output_type": "stream",
     "text": [
      "Current date and time : \n",
      "2023-03-15 15:45:01\n",
      "--- 0.07997106313705445 minutes ---\n",
      "Current date and time : \n",
      "2023-03-15 15:45:06\n",
      "Parameters of the best solution : [30.     4.86   6.41   4.438  3.78   2.278  4.25 ]\n",
      "Fitness value of the best solution = 3.0136815042992273\n",
      "[[27.     6.41   6.41   6.41   3.78   3.78   3.78 ]\n",
      " [30.     4.86   6.41   4.438  3.78   2.278  4.25 ]]\n",
      "Parameters of the best solution : [30.     4.86   6.41   4.438  3.78   2.278  4.25 ]\n",
      "Fitness value of the best solution = 3.014\n",
      "Loop time: 0.080301s\n",
      "Avg. loop time: 0.026767s\n",
      "Current date and time : \n",
      "2023-03-15 15:45:06\n"
     ]
    },
    {
     "name": "stderr",
     "output_type": "stream",
     "text": [
      "/home/ggianna/runtimeEnvs/mambaforge/inverse-design/lib/python3.10/site-packages/pygad/pygad.py:932: UserWarning: Use the 'save_best_solutions' parameter with caution as it may cause memory overflow when either the number of generations or number of genes is large.\n",
      "  if not self.suppress_warnings: warnings.warn(\"Use the 'save_best_solutions' parameter with caution as it may cause memory overflow when either the number of generations or number of genes is large.\")\n",
      "/home/ggianna/runtimeEnvs/mambaforge/inverse-design/lib/python3.10/site-packages/pygad/pygad.py:940: UserWarning: Use the 'save_solutions' parameter with caution as it may cause memory overflow when either the number of generations, number of genes, or number of solutions in population is large.\n",
      "  if not self.suppress_warnings: warnings.warn(\"Use the 'save_solutions' parameter with caution as it may cause memory overflow when either the number of generations, number of genes, or number of solutions in population is large.\")\n"
     ]
    },
    {
     "name": "stdout",
     "output_type": "stream",
     "text": [
      "--- 0.07879554828008016 minutes ---\n",
      "Current date and time : \n",
      "2023-03-15 15:45:11\n",
      "Parameters of the best solution : [29.    6.01  6.41  4.86  3.78  3.54  3.85]\n",
      "Fitness value of the best solution = 3.0547845041956316\n",
      "[[27.     6.41   6.41   6.41   3.78   3.78   3.78 ]\n",
      " [29.     6.41   4.438  4.86   3.78   3.54   3.85 ]\n",
      " [29.     6.01   6.41   4.86   3.78   3.54   3.85 ]]\n",
      "Parameters of the best solution : [29.    6.01  6.41  4.86  3.78  3.54  3.85]\n",
      "Fitness value of the best solution = 3.055\n",
      "Loop time: 0.079067s\n",
      "Avg. loop time: 0.053123s\n",
      "Current date and time : \n",
      "2023-03-15 15:45:11\n"
     ]
    },
    {
     "name": "stderr",
     "output_type": "stream",
     "text": [
      "/home/ggianna/runtimeEnvs/mambaforge/inverse-design/lib/python3.10/site-packages/pygad/pygad.py:932: UserWarning: Use the 'save_best_solutions' parameter with caution as it may cause memory overflow when either the number of generations or number of genes is large.\n",
      "  if not self.suppress_warnings: warnings.warn(\"Use the 'save_best_solutions' parameter with caution as it may cause memory overflow when either the number of generations or number of genes is large.\")\n",
      "/home/ggianna/runtimeEnvs/mambaforge/inverse-design/lib/python3.10/site-packages/pygad/pygad.py:940: UserWarning: Use the 'save_solutions' parameter with caution as it may cause memory overflow when either the number of generations, number of genes, or number of solutions in population is large.\n",
      "  if not self.suppress_warnings: warnings.warn(\"Use the 'save_solutions' parameter with caution as it may cause memory overflow when either the number of generations, number of genes, or number of solutions in population is large.\")\n"
     ]
    },
    {
     "name": "stdout",
     "output_type": "stream",
     "text": [
      "--- 0.07888078689575195 minutes ---\n",
      "Current date and time : \n",
      "2023-03-15 15:45:15\n",
      "Parameters of the best solution : [27.     6.01   5.7    4.438  3.78   4.093  4.25 ]\n",
      "Fitness value of the best solution = 3.333333333333329\n",
      "[[27.     6.41   6.41   6.41   3.78   3.78   3.78 ]\n",
      " [27.     6.41   6.01   4.438  3.78   3.85   3.54 ]\n",
      " [27.     6.01   5.7    4.438  3.78   4.093  4.25 ]]\n",
      "Parameters of the best solution : [27.     6.01   5.7    4.438  3.78   4.093  4.25 ]\n",
      "Fitness value of the best solution = 3.333\n",
      "Loop time: 0.079110s\n",
      "Avg. loop time: 0.079493s\n"
     ]
    }
   ],
   "source": [
    "Rounds = 3\n",
    "loop_time = 0\n",
    "total_time = 0\n",
    "\n",
    "# Init solutions\n",
    "solutions_from_all_loops = None\n",
    "\n",
    "for i in range(Rounds):\n",
    "    start_time = time.time()\n",
    "\n",
    "    best_solutions_of_loop = run_one_ga_loop()\n",
    "\n",
    "    # Append to all solutions set\n",
    "    if solutions_from_all_loops is None:\n",
    "        solutions_from_all_loops = best_solutions_of_loop\n",
    "    else:\n",
    "        solutions_from_all_loops = np.vstack((solutions_from_all_loops, best_solutions_of_loop))\n",
    "    \n",
    "    # Update time for loop and total time\n",
    "    loop_time = (time.time() - start_time)\n",
    "    total_time = total_time+loop_time\n",
    "    \n",
    "    print(\"Loop time: %fs\"%loop_time)\n",
    "    \n",
    "    AverLooptime = total_time/Rounds    \n",
    "    print(\"Avg. loop time: %fs\"%(AverLooptime))\n",
    "\n",
    "# Save unique best solutions as list\n",
    "best_solutions_list = np.unique(solutions_from_all_loops,axis=0)\n"
   ]
  },
  {
   "cell_type": "code",
   "execution_count": 16,
   "metadata": {},
   "outputs": [
    {
     "name": "stdout",
     "output_type": "stream",
     "text": [
      "Parameters of the best solution : [27.    4.86  5.7   3.66  3.78  3.54  4.25]\n",
      "Parameters of the best solution : [27.     6.41   5.7    4.438  3.78   4.093  3.54 ]\n",
      "Parameters of the best solution : [27.    6.41  6.41  6.41  3.78  3.78  3.78]\n",
      "Parameters of the best solution : [30.     4.86   3.66   4.438  3.927  3.85   3.54 ]\n",
      "Parameters of the best solution : [30.    6.41  6.01  4.86  3.78  3.54  3.85]\n"
     ]
    }
   ],
   "source": [
    "# Output best solutions\n",
    "for best_solution in best_solutions_list:\n",
    "    print(\"Parameters of the best solution : %s\"%(str(best_solution)))\n",
    "    \n"
   ]
  },
  {
   "cell_type": "code",
   "execution_count": 1,
   "metadata": {},
   "outputs": [],
   "source": [
    "# FOR SINGLE RUN\n",
    "################\n",
    "# Run GA\n",
    "# solution, solution_fitness, solution_index = runGA(ga_instance)\n",
    "\n",
    "# Get best solutions\n",
    "# best_solutions = get_best_solutions(ga_instance)\n",
    "# print(best_solutions)\n",
    "\n",
    "\n",
    "# # Output also best of the best\n",
    "# best_solution, best_solution_fitness, best_solution_idx = ga_instance.best_solution()\n",
    "\n",
    "\n",
    "# print(\"Parameters of the best solution : %s\"%(str(best_solution)))\n",
    "# print(\"Fitness value of the best solution = %5.3f\"%(best_solution_fitness))\n",
    "\n",
    "# Plot results\n",
    "# plot_results(ga_instance)\n",
    "\n",
    "################\n"
   ]
  },
  {
   "cell_type": "code",
   "execution_count": null,
   "metadata": {},
   "outputs": [],
   "source": [
    "# Output estimated solution performance\n"
   ]
  }
 ],
 "metadata": {
  "kernelspec": {
   "display_name": "inverse-design",
   "language": "python",
   "name": "python3"
  },
  "language_info": {
   "codemirror_mode": {
    "name": "ipython",
    "version": 3
   },
   "file_extension": ".py",
   "mimetype": "text/x-python",
   "name": "python",
   "nbconvert_exporter": "python",
   "pygments_lexer": "ipython3",
   "version": "3.10.9"
  },
  "orig_nbformat": 4,
  "vscode": {
   "interpreter": {
    "hash": "1dacc462f57b185c0938350e2f9471d253e909b1b8e7b6d67626c35f280f4bef"
   }
  }
 },
 "nbformat": 4,
 "nbformat_minor": 2
}
