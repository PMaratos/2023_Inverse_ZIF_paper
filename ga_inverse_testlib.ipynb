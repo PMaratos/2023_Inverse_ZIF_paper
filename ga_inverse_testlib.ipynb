{
 "cells": [
  {
   "cell_type": "code",
   "execution_count": null,
   "metadata": {},
   "outputs": [],
   "source": [
    "# Import library\n",
    "from ga_inverse import *"
   ]
  },
  {
   "cell_type": "code",
   "execution_count": null,
   "metadata": {},
   "outputs": [],
   "source": [
    "selected_case = 'propylene' # You may also choose 'o2' or 'co2'\n",
    "diameter_tuple, mass_tuple, ascF_tuple, kD_tuple, linker_length1, func1_length, MetalNum, GeneFieldNames, gene_space = case(selected_case)"
   ]
  },
  {
   "cell_type": "code",
   "execution_count": null,
   "metadata": {},
   "outputs": [],
   "source": [
    "# Read data\n",
    "data_from_file = readData('./TrainData.xlsx')\n",
    "training_data, gene_repr_of_training_data, training_x, training_y = prepareDataForLearning(data_from_file, GeneFieldNames)\n"
   ]
  },
  {
   "cell_type": "code",
   "execution_count": null,
   "metadata": {},
   "outputs": [],
   "source": [
    "# Train model\n",
    "model = train_model(training_x, training_y)"
   ]
  },
  {
   "cell_type": "code",
   "execution_count": null,
   "metadata": {},
   "outputs": [],
   "source": [
    "# Prepare GA\n",
    "## Fitness function\n",
    "boundaries_D = np.array([-12.8, -12.2])\n",
    "boundaries_R = np.array([1.9, 2.1])\n",
    "\n",
    "# Custom fitness function\n",
    "def my_fitness(estimated_gas1_diffusivity, estimated_gas2_diffusivity, result_details: dict = None):\n",
    "    Ratio = estimated_gas1_diffusivity - estimated_gas2_diffusivity\n",
    "    \n",
    "    DiffusivityContribution = 1.0/(abs(np.min(boundaries_D) - estimated_gas1_diffusivity) + abs(np.max(boundaries_D) - estimated_gas1_diffusivity))\n",
    "    RatiosContribution = 1.0/(abs(np.min(boundaries_R) - Ratio) + abs(np.max(boundaries_R) - Ratio))\n",
    "\n",
    "    # If a result_details dictionary exists\n",
    "    if result_details is not None:\n",
    "        # then update it the intermediate results\n",
    "        result_details['Diffusivity'] = estimated_gas1_diffusivity\n",
    "        result_details['Ratio'] = Ratio\n",
    "    \n",
    "    overallFitnessMeasure = 0.5*DiffusivityContribution + 0.5*RatiosContribution\n",
    "\n",
    "    return overallFitnessMeasure\n",
    "\n",
    "def ga_fitness(solution, solution_idx):\n",
    "    # Build upon default, imported fitness from library\n",
    "    return fitness_base(solution, solution_idx, diameter_tuple, mass_tuple, ascF_tuple, kD_tuple,GeneFieldNames, \n",
    "                        boundaries_D, boundaries_R, model, my_fitness)\n"
   ]
  },
  {
   "cell_type": "code",
   "execution_count": null,
   "metadata": {},
   "outputs": [],
   "source": [
    "# Define single loop\n",
    "def run_one_ga_loop():\n",
    "    # Starting population\n",
    "    starting_population = training_data\n",
    "\n",
    "    # Actual initialization\n",
    "    ga_instance = prepareGA(fitness=ga_fitness, starting_population_data=starting_population,\n",
    "                            gene_space =  gene_space,\n",
    "                            num_generations=2, on_generation=None, suppress_warnings=True)\n",
    "        \n",
    "    # Run GA\n",
    "    runGA(ga_instance)\n",
    "\n",
    "    # Get best solutions\n",
    "    best_solutions = get_best_solutions(ga_instance)\n",
    "    print(\"Best solutions of loop:\")\n",
    "    print(best_solutions)\n",
    "\n",
    "\n",
    "    # Output also best of the best\n",
    "    best_solution, best_solution_fitness, _ = ga_instance.best_solution()\n",
    "\n",
    "    print(\"Parameters of the best loop solution : %s\"%(str(best_solution)))\n",
    "    print(\"Fitness value of the best loop solution = %5.3f\"%(best_solution_fitness))\n",
    "\n",
    "    return best_solutions"
   ]
  },
  {
   "cell_type": "code",
   "execution_count": null,
   "metadata": {},
   "outputs": [],
   "source": [
    "Rounds = 3\n",
    "loop_time = 0\n",
    "total_time = 0\n",
    "\n",
    "# Init solutions\n",
    "solutions_from_all_loops = None\n",
    "\n",
    "for i in range(Rounds):\n",
    "    start_time = time.time()\n",
    "\n",
    "    best_solutions_of_loop = run_one_ga_loop()\n",
    "\n",
    "    # Append to all solutions set\n",
    "    if solutions_from_all_loops is None:\n",
    "        solutions_from_all_loops = best_solutions_of_loop\n",
    "    else:\n",
    "        solutions_from_all_loops = np.vstack((solutions_from_all_loops, best_solutions_of_loop))\n",
    "    \n",
    "    # Update time for loop and total time\n",
    "    loop_time = (time.time() - start_time)\n",
    "    total_time = total_time+loop_time\n",
    "    \n",
    "    print(\"Loop time: %fs\"%loop_time)\n",
    "    \n",
    "    AverLooptime = total_time/Rounds    \n",
    "    print(\"Avg. loop time: %fs\"%(AverLooptime))\n",
    "\n",
    "# Save unique best solutions as list\n",
    "best_solutions_list = np.unique(solutions_from_all_loops,axis=0)\n"
   ]
  },
  {
   "cell_type": "code",
   "execution_count": null,
   "metadata": {},
   "outputs": [],
   "source": [
    "# Output best solutions\n",
    "for best_solution in best_solutions_list:\n",
    "    print(\"Parameters of the best solution : %s\"%(str(best_solution)))\n",
    "\n",
    "# Initialize a dataframe\n",
    "best_zifs_for_plot = pd.DataFrame(columns = [\n",
    "        'MOF_ID',\n",
    "        'logD',\n",
    "        'Ratio', 'fitness'])\n",
    "\n",
    "def add_to_best_zifs_list(idx, estimated_gas1_diffusivity, estimated_gas2_diffusivity):\n",
    "    best_zifs_for_plot.loc[idx, ['MOF_ID']] = idx\n",
    "    fitness_details = dict()\n",
    "    best_zifs_for_plot.loc[idx, ['fitness']] = my_fitness(estimated_gas1_diffusivity, estimated_gas2_diffusivity, fitness_details)\n",
    "    best_zifs_for_plot.loc[idx, ['logD']] = fitness_details['Diffusivity']\n",
    "    best_zifs_for_plot.loc[idx, ['Ratio']] = fitness_details['Ratio']\n",
    "\n",
    "    return None\n",
    "\n",
    "\n",
    "# For each solution\n",
    "for mof_id, solution_vector in enumerate(best_solutions_list):\n",
    "    # Calculate the 2 components of the fitness \n",
    "    # and add them to the data frame\n",
    "    fitness_base(solution_vector, mof_id, diameter_tuple, mass_tuple, ascF_tuple, kD_tuple, boundaries_D, boundaries_R, model,\n",
    "                 customFitnessFormula = lambda estimated_gas1_diffusivity, estimated_gas2_diffusivity: \n",
    "                    add_to_best_zifs_list(mof_id, estimated_gas1_diffusivity, estimated_gas2_diffusivity)\n",
    "                 )"
   ]
  },
  {
   "cell_type": "code",
   "execution_count": null,
   "metadata": {},
   "outputs": [],
   "source": [
    "# Plot outputs\n",
    "plot_logDvsRatio(best_zifs_for_plot,'C3H6', 'C3H8')\n",
    "plot_fitnessPerMOF(best_zifs_for_plot,'C3H6', 'C3H8')\n"
   ]
  },
  {
   "cell_type": "code",
   "execution_count": null,
   "metadata": {},
   "outputs": [],
   "source": [
    "# FOR SINGLE RUN\n",
    "################\n",
    "# Run GA\n",
    "# solution, solution_fitness, solution_index = runGA(ga_instance)\n",
    "\n",
    "# Get best solutions\n",
    "# best_solutions = get_best_solutions(ga_instance)\n",
    "# print(best_solutions)\n",
    "\n",
    "\n",
    "# # Output also best of the best\n",
    "# best_solution, best_solution_fitness, best_solution_idx = ga_instance.best_solution()\n",
    "\n",
    "\n",
    "# print(\"Parameters of the best solution : %s\"%(str(best_solution)))\n",
    "# print(\"Fitness value of the best solution = %5.3f\"%(best_solution_fitness))\n",
    "\n",
    "# Plot results\n",
    "# plot_results(ga_instance)\n",
    "\n",
    "################\n"
   ]
  },
  {
   "cell_type": "code",
   "execution_count": null,
   "metadata": {},
   "outputs": [],
   "source": [
    "# Output estimated solution performance\n"
   ]
  }
 ],
 "metadata": {
  "language_info": {
   "name": "python"
  },
  "orig_nbformat": 4
 },
 "nbformat": 4,
 "nbformat_minor": 2
}
