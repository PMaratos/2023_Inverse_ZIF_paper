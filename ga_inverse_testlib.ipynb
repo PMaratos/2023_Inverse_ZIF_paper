{
 "cells": [
  {
   "cell_type": "code",
   "execution_count": 39,
   "metadata": {},
   "outputs": [],
   "source": [
    "# Import library\n",
    "from ga_inverse import *"
   ]
  },
  {
   "cell_type": "code",
   "execution_count": 40,
   "metadata": {},
   "outputs": [],
   "source": [
    "selected_case = 'co2' # You can choose among 'propylene', 'o2' and 'co2', which correspond to propylene/propane, o2/n2 and co2/ch4 mixtures, respectively\n",
    "diameter_tuple, mass_tuple, ascF_tuple, kD_tuple, linker_length1, func1_length, MetalNum, linker_length3, func3_length, GeneFieldNames, gene_space = case(selected_case)"
   ]
  },
  {
   "cell_type": "code",
   "execution_count": 41,
   "metadata": {},
   "outputs": [],
   "source": [
    "# Read data\n",
    "data_from_file = readData('./TrainData.xlsx')\n",
    "training_data, gene_repr_of_training_data, training_x, training_y = prepareDataForLearning(data_from_file, GeneFieldNames)\n"
   ]
  },
  {
   "cell_type": "code",
   "execution_count": 42,
   "metadata": {},
   "outputs": [],
   "source": [
    "# Train model\n",
    "model = train_model(training_x, training_y)"
   ]
  },
  {
   "cell_type": "code",
   "execution_count": 43,
   "metadata": {},
   "outputs": [],
   "source": [
    "# Prepare GA\n",
    "## Fitness function\n",
    "boundaries_D = np.array([-9, -10])\n",
    "boundaries_R = np.array([4, 5])\n",
    "\n",
    "# Custom fitness function\n",
    "def my_fitness(estimated_gas1_diffusivity, estimated_gas2_diffusivity, result_details: dict = None):\n",
    "    Ratio = estimated_gas1_diffusivity - estimated_gas2_diffusivity\n",
    "    \n",
    "    # DiffusivityContribution = 1.0/(abs(np.min(boundaries_D) - estimated_gas1_diffusivity) + abs(np.max(boundaries_D) - estimated_gas1_diffusivity))\n",
    "    # RatiosContribution = 1.0/(abs(np.min(boundaries_R) - Ratio) + abs(np.max(boundaries_R) - Ratio))\n",
    "\n",
    "    # If a result_details dictionary exists\n",
    "    if result_details is not None:\n",
    "        # then update it the intermediate results\n",
    "        result_details['Diffusivity'] = estimated_gas1_diffusivity\n",
    "        result_details['Ratio'] = Ratio\n",
    "        if  (np.min(boundaries_D) < estimated_gas1_diffusivity < np.max(boundaries_D)) and (np.min(boundaries_R) < Ratio < np.max(boundaries_R)):\n",
    "            DiffusivityContribution = 1.0/(abs(np.min(boundaries_D) - estimated_gas1_diffusivity) + abs(np.max(boundaries_D) - estimated_gas1_diffusivity))\n",
    "            RatiosContribution = 1.0/(abs(np.min(boundaries_R) - Ratio) + abs(np.max(boundaries_R) - Ratio))\n",
    "        else:\n",
    "            RatiosContribution = 1/(np.exp(abs(Ratio-np.min(boundaries_R)))+np.exp(abs(Ratio-np.max(boundaries_R))))\n",
    "            DiffusivityContribution = 1/(np.exp(abs(estimated_gas1_diffusivity-np.min(boundaries_D)))+np.exp(abs(estimated_gas1_diffusivity-np.max(boundaries_D))))\n",
    "    \n",
    "    overallFitnessMeasure = 0.5*DiffusivityContribution + 0.5*RatiosContribution\n",
    "\n",
    "    return overallFitnessMeasure\n",
    "\n",
    "def ga_fitness(solution, solution_idx):\n",
    "    # Build upon default, imported fitness from library\n",
    "    return fitness_base(solution, solution_idx, diameter_tuple, mass_tuple, ascF_tuple, kD_tuple,GeneFieldNames, \n",
    "                        boundaries_D, boundaries_R, model, my_fitness)\n"
   ]
  },
  {
   "cell_type": "code",
   "execution_count": 46,
   "metadata": {},
   "outputs": [],
   "source": [
    "# Define single loop\n",
    "def run_one_ga_loop():\n",
    "    # Starting population\n",
    "    starting_population = gene_repr_of_training_data\n",
    "\n",
    "    # Actual initialization\n",
    "    ga_instance = prepareGA(fitness=ga_fitness, starting_population_data=starting_population,\n",
    "                            gene_space =  gene_space,\n",
    "                            num_generations=2, on_generation=None, suppress_warnings=True)\n",
    "        \n",
    "    # Run GA\n",
    "    runGA(ga_instance)\n",
    "\n",
    "    # Get best solutions\n",
    "    best_solutions = get_best_solutions(ga_instance)\n",
    "    print(\"Best solutions of loop:\")\n",
    "    print(best_solutions)\n",
    "\n",
    "\n",
    "    # Output also best of the best\n",
    "    best_solution, best_solution_fitness, _ = ga_instance.best_solution()\n",
    "\n",
    "    print(\"Parameters of the best loop solution : %s\"%(str(best_solution)))\n",
    "    print(\"Fitness value of the best loop solution = %5.3f\"%(best_solution_fitness))\n",
    "\n",
    "    return best_solutions"
   ]
  },
  {
   "cell_type": "code",
   "execution_count": 47,
   "metadata": {},
   "outputs": [
    {
     "ename": "IndexError",
     "evalue": "only integers, slices (`:`), ellipsis (`...`), numpy.newaxis (`None`) and integer or boolean arrays are valid indices",
     "output_type": "error",
     "traceback": [
      "\u001b[1;31m---------------------------------------------------------------------------\u001b[0m",
      "\u001b[1;31mIndexError\u001b[0m                                Traceback (most recent call last)",
      "\u001b[1;32m~\\AppData\\Local\\Temp\\ipykernel_19844\\3488398686.py\u001b[0m in \u001b[0;36m<cell line: 8>\u001b[1;34m()\u001b[0m\n\u001b[0;32m      9\u001b[0m     \u001b[0mstart_time\u001b[0m \u001b[1;33m=\u001b[0m \u001b[0mtime\u001b[0m\u001b[1;33m.\u001b[0m\u001b[0mtime\u001b[0m\u001b[1;33m(\u001b[0m\u001b[1;33m)\u001b[0m\u001b[1;33m\u001b[0m\u001b[1;33m\u001b[0m\u001b[0m\n\u001b[0;32m     10\u001b[0m \u001b[1;33m\u001b[0m\u001b[0m\n\u001b[1;32m---> 11\u001b[1;33m     \u001b[0mbest_solutions_of_loop\u001b[0m \u001b[1;33m=\u001b[0m \u001b[0mrun_one_ga_loop\u001b[0m\u001b[1;33m(\u001b[0m\u001b[1;33m)\u001b[0m\u001b[1;33m\u001b[0m\u001b[1;33m\u001b[0m\u001b[0m\n\u001b[0m\u001b[0;32m     12\u001b[0m \u001b[1;33m\u001b[0m\u001b[0m\n\u001b[0;32m     13\u001b[0m     \u001b[1;31m# Append to all solutions set\u001b[0m\u001b[1;33m\u001b[0m\u001b[1;33m\u001b[0m\u001b[1;33m\u001b[0m\u001b[0m\n",
      "\u001b[1;32m~\\AppData\\Local\\Temp\\ipykernel_19844\\4124569209.py\u001b[0m in \u001b[0;36mrun_one_ga_loop\u001b[1;34m()\u001b[0m\n\u001b[0;32m      5\u001b[0m \u001b[1;33m\u001b[0m\u001b[0m\n\u001b[0;32m      6\u001b[0m     \u001b[1;31m# Actual initialization\u001b[0m\u001b[1;33m\u001b[0m\u001b[1;33m\u001b[0m\u001b[1;33m\u001b[0m\u001b[0m\n\u001b[1;32m----> 7\u001b[1;33m     ga_instance = prepareGA(fitness=ga_fitness, starting_population_data=starting_population,\n\u001b[0m\u001b[0;32m      8\u001b[0m                             \u001b[0mgene_space\u001b[0m \u001b[1;33m=\u001b[0m  \u001b[0mgene_space\u001b[0m\u001b[1;33m,\u001b[0m\u001b[1;33m\u001b[0m\u001b[1;33m\u001b[0m\u001b[0m\n\u001b[0;32m      9\u001b[0m                             num_generations=2, on_generation=None, suppress_warnings=True)\n",
      "\u001b[1;32mc:\\Users\\pkrok\\OneDrive\\Python\\3_Inverse\\ga_inverse.py\u001b[0m in \u001b[0;36mprepareGA\u001b[1;34m(fitness, starting_population_data, suppress_warnings, **kwargs)\u001b[0m\n\u001b[0;32m    353\u001b[0m     \u001b[0mGenes\u001b[0m \u001b[1;33m=\u001b[0m \u001b[0mnp\u001b[0m\u001b[1;33m.\u001b[0m\u001b[0masanyarray\u001b[0m\u001b[1;33m(\u001b[0m\u001b[0mstarting_population_data\u001b[0m\u001b[1;33m[\u001b[0m\u001b[0mgene_field_names\u001b[0m\u001b[1;33m]\u001b[0m\u001b[1;33m)\u001b[0m\u001b[1;33m\u001b[0m\u001b[1;33m\u001b[0m\u001b[0m\n\u001b[0;32m    354\u001b[0m \u001b[1;33m\u001b[0m\u001b[0m\n\u001b[1;32m--> 355\u001b[1;33m     \u001b[0minitial_population\u001b[0m \u001b[1;33m=\u001b[0m \u001b[0mGenes\u001b[0m\u001b[1;33m\u001b[0m\u001b[1;33m\u001b[0m\u001b[0m\n\u001b[0m\u001b[0;32m    356\u001b[0m \u001b[1;33m\u001b[0m\u001b[0m\n\u001b[0;32m    357\u001b[0m     \u001b[1;31m# narrowed down options\u001b[0m\u001b[1;33m\u001b[0m\u001b[1;33m\u001b[0m\u001b[1;33m\u001b[0m\u001b[0m\n",
      "\u001b[1;31mIndexError\u001b[0m: only integers, slices (`:`), ellipsis (`...`), numpy.newaxis (`None`) and integer or boolean arrays are valid indices"
     ]
    }
   ],
   "source": [
    "Rounds = 3\n",
    "loop_time = 0\n",
    "total_time = 0\n",
    "\n",
    "# Init solutions\n",
    "solutions_from_all_loops = None\n",
    "\n",
    "for i in range(Rounds):\n",
    "    start_time = time.time()\n",
    "\n",
    "    best_solutions_of_loop = run_one_ga_loop()\n",
    "\n",
    "    # Append to all solutions set\n",
    "    if solutions_from_all_loops is None:\n",
    "        solutions_from_all_loops = best_solutions_of_loop\n",
    "    else:\n",
    "        solutions_from_all_loops = np.vstack((solutions_from_all_loops, best_solutions_of_loop))\n",
    "    \n",
    "    # Update time for loop and total time\n",
    "    loop_time = (time.time() - start_time)\n",
    "    total_time = total_time+loop_time\n",
    "    \n",
    "    print(\"Loop time: %fs\"%loop_time)\n",
    "    \n",
    "    AverLooptime = total_time/Rounds    \n",
    "    print(\"Avg. loop time: %fs\"%(AverLooptime))\n",
    "\n",
    "# Save unique best solutions as list\n",
    "best_solutions_list = np.unique(solutions_from_all_loops,axis=0)\n"
   ]
  },
  {
   "cell_type": "code",
   "execution_count": null,
   "metadata": {},
   "outputs": [],
   "source": [
    "# Output best solutions\n",
    "for best_solution in best_solutions_list:\n",
    "    print(\"Parameters of the best solution : %s\"%(str(best_solution)))\n",
    "\n",
    "# Initialize a dataframe\n",
    "best_zifs_for_plot = pd.DataFrame(columns = [\n",
    "        'MOF_ID',\n",
    "        'logD',\n",
    "        'Ratio', 'fitness'])\n",
    "\n",
    "def add_to_best_zifs_list(idx, estimated_gas1_diffusivity, estimated_gas2_diffusivity):\n",
    "    best_zifs_for_plot.loc[idx, ['MOF_ID']] = idx\n",
    "    fitness_details = dict()\n",
    "    best_zifs_for_plot.loc[idx, ['fitness']] = my_fitness(estimated_gas1_diffusivity, estimated_gas2_diffusivity, fitness_details)\n",
    "    best_zifs_for_plot.loc[idx, ['logD']] = fitness_details['Diffusivity']\n",
    "    best_zifs_for_plot.loc[idx, ['Ratio']] = fitness_details['Ratio']\n",
    "\n",
    "    return None\n",
    "\n",
    "\n",
    "# For each solution\n",
    "for mof_id, solution_vector in enumerate(best_solutions_list):\n",
    "    # Calculate the 2 components of the fitness \n",
    "    # and add them to the data frame\n",
    "    fitness_base(solution_vector, mof_id, diameter_tuple, mass_tuple, ascF_tuple, kD_tuple, boundaries_D, boundaries_R, model,\n",
    "                 customFitnessFormula = lambda estimated_gas1_diffusivity, estimated_gas2_diffusivity: \n",
    "                    add_to_best_zifs_list(mof_id, estimated_gas1_diffusivity, estimated_gas2_diffusivity)\n",
    "                 )"
   ]
  },
  {
   "cell_type": "code",
   "execution_count": null,
   "metadata": {},
   "outputs": [],
   "source": [
    "# Plot outputs\n",
    "plot_logDvsRatio(best_zifs_for_plot,'C3H6', 'C3H8')\n",
    "plot_fitnessPerMOF(best_zifs_for_plot,'C3H6', 'C3H8')\n"
   ]
  },
  {
   "cell_type": "code",
   "execution_count": null,
   "metadata": {},
   "outputs": [],
   "source": [
    "# FOR SINGLE RUN\n",
    "################\n",
    "# Run GA\n",
    "# solution, solution_fitness, solution_index = runGA(ga_instance)\n",
    "\n",
    "# Get best solutions\n",
    "# best_solutions = get_best_solutions(ga_instance)\n",
    "# print(best_solutions)\n",
    "\n",
    "\n",
    "# # Output also best of the best\n",
    "# best_solution, best_solution_fitness, best_solution_idx = ga_instance.best_solution()\n",
    "\n",
    "\n",
    "# print(\"Parameters of the best solution : %s\"%(str(best_solution)))\n",
    "# print(\"Fitness value of the best solution = %5.3f\"%(best_solution_fitness))\n",
    "\n",
    "# Plot results\n",
    "# plot_results(ga_instance)\n",
    "\n",
    "################\n"
   ]
  },
  {
   "cell_type": "code",
   "execution_count": null,
   "metadata": {},
   "outputs": [],
   "source": [
    "# Output estimated solution performance\n"
   ]
  }
 ],
 "metadata": {
  "kernelspec": {
   "display_name": "base",
   "language": "python",
   "name": "python3"
  },
  "language_info": {
   "codemirror_mode": {
    "name": "ipython",
    "version": 3
   },
   "file_extension": ".py",
   "mimetype": "text/x-python",
   "name": "python",
   "nbconvert_exporter": "python",
   "pygments_lexer": "ipython3",
   "version": "3.8.13"
  },
  "orig_nbformat": 4,
  "vscode": {
   "interpreter": {
    "hash": "4ffebdd25d21889109a1367ee45445830c00399d8ea08196f3e5d4bbcc58e8eb"
   }
  }
 },
 "nbformat": 4,
 "nbformat_minor": 2
}
