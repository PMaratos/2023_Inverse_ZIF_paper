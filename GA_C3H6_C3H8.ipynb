{
 "cells": [
  {
   "cell_type": "code",
   "execution_count": 1,
   "metadata": {},
   "outputs": [],
   "source": [
    "import pandas as pd\n",
    "import seaborn as sns\n",
    "import numpy as np\n",
    "from scipy.optimize import minimize\n",
    "from scipy.optimize import minimize_scalar\n",
    "%matplotlib inline\n",
    "import matplotlib.pyplot as plt\n",
    "from rtree import index\n",
    "\n",
    "#import models\n",
    "from sklearn.linear_model import LinearRegression\n",
    "from sklearn.neural_network import MLPRegressor\n",
    "from sklearn.tree import DecisionTreeRegressor\n",
    "from sklearn import linear_model\n",
    "from sklearn.ensemble import RandomForestRegressor\n",
    "from sklearn.ensemble import GradientBoostingRegressor\n",
    "from xgboost import XGBRegressor\n",
    "#from xgboost import XGBRegressor\n",
    "from matplotlib.ticker import FormatStrFormatter\n",
    "from matplotlib.ticker import StrMethodFormatter\n",
    "\n",
    "from sklearn import model_selection\n",
    "from sklearn.metrics import explained_variance_score\n",
    "# from sklearn.metrics import mean_absolute_percentage_error\n",
    "from sklearn.metrics import mean_squared_error\n",
    "from tabulate import _table_formats, tabulate\n",
    "from sklearn.model_selection import RepeatedKFold\n",
    "from sklearn.model_selection import train_test_split\n",
    "from sklearn.model_selection import KFold\n",
    "import pygad\n",
    "import time\n",
    "import datetime\n",
    "\n",
    "from sklearn import metrics"
   ]
  },
  {
   "cell_type": "code",
   "execution_count": 2,
   "metadata": {},
   "outputs": [],
   "source": [
    "# datas = '../MyData.xlsx'\n",
    "datas = '/Users/pkrok/OneDrive/Python/Giannakopoulos/MyData.xlsx'\n",
    "# datas = '/Users/panagiotiskrokidas/OneDrive/Python/Giannakopoulos/MyData.xlsx'"
   ]
  },
  {
   "cell_type": "code",
   "execution_count": 3,
   "metadata": {},
   "outputs": [
    {
     "data": {
      "text/plain": [
       "71"
      ]
     },
     "execution_count": 3,
     "metadata": {},
     "output_type": "execute_result"
    }
   ],
   "source": [
    "pd.set_option(\"display.max_columns\", None)\n",
    "df=pd.read_excel(datas)\n",
    "df.head(2)\n",
    "df['logD'] = np.log10(df['diffusivity'])\n",
    "# df = df.dropna()\n",
    "# df[df.gas == 'propylene']['logD'].max()\n",
    "df[df.gas == 'N2']['logD'].count()"
   ]
  },
  {
   "cell_type": "code",
   "execution_count": null,
   "metadata": {},
   "outputs": [],
   "source": []
  },
  {
   "cell_type": "markdown",
   "metadata": {},
   "source": [
    "# Keep only the columns I need"
   ]
  },
  {
   "cell_type": "code",
   "execution_count": 4,
   "metadata": {},
   "outputs": [],
   "source": [
    "# df2=df[[ 'aperture', 'size - van der Waals (Å)','mass', 'ascentricF', 'logD', 'size - kinetic diameter (Å)', 'gas', 'apertureAtom_e', 'ionicRad']]\n",
    "df2=df[[ 'type', 'gas', 'MetalNum', 'aperture', 'size - van der Waals (Å)','mass', 'ascentricF', 'logD', 'size - kinetic diameter (Å)', 'ionicRad', \n",
    "       'Μ-N_lff', 'Μ-N_kFF', 'MetalCharge', 'MetalMass',\n",
    "       'apertureAtom_σ', 'apertureAtom_e', 'linker_length1', 'linker_length2',\n",
    "       'linker_length3', 'linker_mass1', 'linker_mass2', 'linker_mass3',\n",
    "       'func1_length', 'func2_length', 'func3_length', 'func1_mass',  \n",
    "       'func2_mass', 'func3_mass', 'func1_charge', 'func2_charge',\n",
    "       'func3_charge',]]"
   ]
  },
  {
   "cell_type": "code",
   "execution_count": null,
   "metadata": {},
   "outputs": [],
   "source": []
  },
  {
   "cell_type": "code",
   "execution_count": 5,
   "metadata": {},
   "outputs": [],
   "source": [
    "df2=df2.rename(columns={'size - van der Waals (Å)':'diameter', 'size - kinetic diameter (Å)':'kdiameter', 'apertureAtom_σ':'σ', 'apertureAtom_e':'e' })"
   ]
  },
  {
   "cell_type": "markdown",
   "metadata": {},
   "source": [
    "\n"
   ]
  },
  {
   "cell_type": "code",
   "execution_count": 6,
   "metadata": {},
   "outputs": [],
   "source": [
    "df2 = df2.dropna()\n",
    "df2=df2.reset_index(drop=True)\n",
    "\n",
    "df2=df2[\n",
    "# (df2['gas'] != 'isobutane') & (df2['gas'] != 'iso-butane')\n",
    "(df2['gas'] != 'SF6')\n",
    "#  (df2['gas'] != 'Rn')\n",
    "].reset_index()\n",
    "\n",
    "df2 = df2.dropna()\n",
    "df2=df2.reset_index(drop=True)\n",
    "# df2\n",
    "# df2[(df2['logD'] >= -13) & (dfco2['logD'] <= -11.5)]"
   ]
  },
  {
   "cell_type": "markdown",
   "metadata": {},
   "source": [
    "## Propylene/propane dataframes"
   ]
  },
  {
   "cell_type": "code",
   "execution_count": 7,
   "metadata": {},
   "outputs": [
    {
     "data": {
      "text/html": [
       "<div>\n",
       "<style scoped>\n",
       "    .dataframe tbody tr th:only-of-type {\n",
       "        vertical-align: middle;\n",
       "    }\n",
       "\n",
       "    .dataframe tbody tr th {\n",
       "        vertical-align: top;\n",
       "    }\n",
       "\n",
       "    .dataframe thead th {\n",
       "        text-align: right;\n",
       "    }\n",
       "</style>\n",
       "<table border=\"1\" class=\"dataframe\">\n",
       "  <thead>\n",
       "    <tr style=\"text-align: right;\">\n",
       "      <th></th>\n",
       "      <th>index</th>\n",
       "      <th>type</th>\n",
       "      <th>gas</th>\n",
       "      <th>MetalNum</th>\n",
       "      <th>aperture</th>\n",
       "      <th>diameter</th>\n",
       "      <th>mass</th>\n",
       "      <th>ascentricF</th>\n",
       "      <th>logD</th>\n",
       "      <th>kdiameter</th>\n",
       "      <th>ionicRad</th>\n",
       "      <th>Μ-N_lff</th>\n",
       "      <th>Μ-N_kFF</th>\n",
       "      <th>MetalCharge</th>\n",
       "      <th>MetalMass</th>\n",
       "      <th>σ</th>\n",
       "      <th>e</th>\n",
       "      <th>linker_length1</th>\n",
       "      <th>linker_length2</th>\n",
       "      <th>linker_length3</th>\n",
       "      <th>linker_mass1</th>\n",
       "      <th>linker_mass2</th>\n",
       "      <th>linker_mass3</th>\n",
       "      <th>func1_length</th>\n",
       "      <th>func2_length</th>\n",
       "      <th>func3_length</th>\n",
       "      <th>func1_mass</th>\n",
       "      <th>func2_mass</th>\n",
       "      <th>func3_mass</th>\n",
       "      <th>func1_charge</th>\n",
       "      <th>func2_charge</th>\n",
       "      <th>func3_charge</th>\n",
       "    </tr>\n",
       "  </thead>\n",
       "  <tbody>\n",
       "    <tr>\n",
       "      <th>43</th>\n",
       "      <td>45</td>\n",
       "      <td>ZIF-67</td>\n",
       "      <td>He</td>\n",
       "      <td>27</td>\n",
       "      <td>3.32</td>\n",
       "      <td>2.66</td>\n",
       "      <td>4.002</td>\n",
       "      <td>-0.390</td>\n",
       "      <td>-7.872895</td>\n",
       "      <td>2.60</td>\n",
       "      <td>72</td>\n",
       "      <td>2.044</td>\n",
       "      <td>58910.7</td>\n",
       "      <td>1.3497</td>\n",
       "      <td>58.93</td>\n",
       "      <td>0.25</td>\n",
       "      <td>0.0627</td>\n",
       "      <td>4.438</td>\n",
       "      <td>4.438</td>\n",
       "      <td>4.438</td>\n",
       "      <td>81.0</td>\n",
       "      <td>81.0</td>\n",
       "      <td>81.0</td>\n",
       "      <td>3.78</td>\n",
       "      <td>3.78</td>\n",
       "      <td>3.78</td>\n",
       "      <td>15.0</td>\n",
       "      <td>15.0</td>\n",
       "      <td>15.0</td>\n",
       "      <td>-0.1342</td>\n",
       "      <td>-0.1342</td>\n",
       "      <td>-0.1342</td>\n",
       "    </tr>\n",
       "    <tr>\n",
       "      <th>44</th>\n",
       "      <td>46</td>\n",
       "      <td>ZIF-67</td>\n",
       "      <td>H2</td>\n",
       "      <td>27</td>\n",
       "      <td>3.32</td>\n",
       "      <td>2.76</td>\n",
       "      <td>2.010</td>\n",
       "      <td>-0.217</td>\n",
       "      <td>-8.060481</td>\n",
       "      <td>2.89</td>\n",
       "      <td>72</td>\n",
       "      <td>2.044</td>\n",
       "      <td>58910.7</td>\n",
       "      <td>1.3497</td>\n",
       "      <td>58.93</td>\n",
       "      <td>0.25</td>\n",
       "      <td>0.0627</td>\n",
       "      <td>4.438</td>\n",
       "      <td>4.438</td>\n",
       "      <td>4.438</td>\n",
       "      <td>81.0</td>\n",
       "      <td>81.0</td>\n",
       "      <td>81.0</td>\n",
       "      <td>3.78</td>\n",
       "      <td>3.78</td>\n",
       "      <td>3.78</td>\n",
       "      <td>15.0</td>\n",
       "      <td>15.0</td>\n",
       "      <td>15.0</td>\n",
       "      <td>-0.1342</td>\n",
       "      <td>-0.1342</td>\n",
       "      <td>-0.1342</td>\n",
       "    </tr>\n",
       "    <tr>\n",
       "      <th>45</th>\n",
       "      <td>47</td>\n",
       "      <td>ZIF-67</td>\n",
       "      <td>O2</td>\n",
       "      <td>27</td>\n",
       "      <td>3.32</td>\n",
       "      <td>2.94</td>\n",
       "      <td>31.999</td>\n",
       "      <td>0.022</td>\n",
       "      <td>-9.010105</td>\n",
       "      <td>3.46</td>\n",
       "      <td>72</td>\n",
       "      <td>2.044</td>\n",
       "      <td>58910.7</td>\n",
       "      <td>1.3497</td>\n",
       "      <td>58.93</td>\n",
       "      <td>0.25</td>\n",
       "      <td>0.0627</td>\n",
       "      <td>4.438</td>\n",
       "      <td>4.438</td>\n",
       "      <td>4.438</td>\n",
       "      <td>81.0</td>\n",
       "      <td>81.0</td>\n",
       "      <td>81.0</td>\n",
       "      <td>3.78</td>\n",
       "      <td>3.78</td>\n",
       "      <td>3.78</td>\n",
       "      <td>15.0</td>\n",
       "      <td>15.0</td>\n",
       "      <td>15.0</td>\n",
       "      <td>-0.1342</td>\n",
       "      <td>-0.1342</td>\n",
       "      <td>-0.1342</td>\n",
       "    </tr>\n",
       "    <tr>\n",
       "      <th>46</th>\n",
       "      <td>48</td>\n",
       "      <td>ZIF-67</td>\n",
       "      <td>CO2</td>\n",
       "      <td>27</td>\n",
       "      <td>3.32</td>\n",
       "      <td>3.24</td>\n",
       "      <td>44.010</td>\n",
       "      <td>0.225</td>\n",
       "      <td>-9.352617</td>\n",
       "      <td>3.30</td>\n",
       "      <td>72</td>\n",
       "      <td>2.044</td>\n",
       "      <td>58910.7</td>\n",
       "      <td>1.3497</td>\n",
       "      <td>58.93</td>\n",
       "      <td>0.25</td>\n",
       "      <td>0.0627</td>\n",
       "      <td>4.438</td>\n",
       "      <td>4.438</td>\n",
       "      <td>4.438</td>\n",
       "      <td>81.0</td>\n",
       "      <td>81.0</td>\n",
       "      <td>81.0</td>\n",
       "      <td>3.78</td>\n",
       "      <td>3.78</td>\n",
       "      <td>3.78</td>\n",
       "      <td>15.0</td>\n",
       "      <td>15.0</td>\n",
       "      <td>15.0</td>\n",
       "      <td>-0.1342</td>\n",
       "      <td>-0.1342</td>\n",
       "      <td>-0.1342</td>\n",
       "    </tr>\n",
       "    <tr>\n",
       "      <th>47</th>\n",
       "      <td>49</td>\n",
       "      <td>ZIF-67</td>\n",
       "      <td>N2</td>\n",
       "      <td>27</td>\n",
       "      <td>3.32</td>\n",
       "      <td>3.13</td>\n",
       "      <td>28.000</td>\n",
       "      <td>0.037</td>\n",
       "      <td>-9.602060</td>\n",
       "      <td>3.64</td>\n",
       "      <td>72</td>\n",
       "      <td>2.044</td>\n",
       "      <td>58910.7</td>\n",
       "      <td>1.3497</td>\n",
       "      <td>58.93</td>\n",
       "      <td>0.25</td>\n",
       "      <td>0.0627</td>\n",
       "      <td>4.438</td>\n",
       "      <td>4.438</td>\n",
       "      <td>4.438</td>\n",
       "      <td>81.0</td>\n",
       "      <td>81.0</td>\n",
       "      <td>81.0</td>\n",
       "      <td>3.78</td>\n",
       "      <td>3.78</td>\n",
       "      <td>3.78</td>\n",
       "      <td>15.0</td>\n",
       "      <td>15.0</td>\n",
       "      <td>15.0</td>\n",
       "      <td>-0.1342</td>\n",
       "      <td>-0.1342</td>\n",
       "      <td>-0.1342</td>\n",
       "    </tr>\n",
       "    <tr>\n",
       "      <th>48</th>\n",
       "      <td>50</td>\n",
       "      <td>ZIF-67</td>\n",
       "      <td>CH4</td>\n",
       "      <td>27</td>\n",
       "      <td>3.32</td>\n",
       "      <td>3.25</td>\n",
       "      <td>16.040</td>\n",
       "      <td>0.011</td>\n",
       "      <td>-11.364516</td>\n",
       "      <td>3.80</td>\n",
       "      <td>72</td>\n",
       "      <td>2.044</td>\n",
       "      <td>58910.7</td>\n",
       "      <td>1.3497</td>\n",
       "      <td>58.93</td>\n",
       "      <td>0.25</td>\n",
       "      <td>0.0627</td>\n",
       "      <td>4.438</td>\n",
       "      <td>4.438</td>\n",
       "      <td>4.438</td>\n",
       "      <td>81.0</td>\n",
       "      <td>81.0</td>\n",
       "      <td>81.0</td>\n",
       "      <td>3.78</td>\n",
       "      <td>3.78</td>\n",
       "      <td>3.78</td>\n",
       "      <td>15.0</td>\n",
       "      <td>15.0</td>\n",
       "      <td>15.0</td>\n",
       "      <td>-0.1342</td>\n",
       "      <td>-0.1342</td>\n",
       "      <td>-0.1342</td>\n",
       "    </tr>\n",
       "    <tr>\n",
       "      <th>49</th>\n",
       "      <td>51</td>\n",
       "      <td>ZIF-67</td>\n",
       "      <td>ethylene</td>\n",
       "      <td>27</td>\n",
       "      <td>3.32</td>\n",
       "      <td>3.59</td>\n",
       "      <td>28.050</td>\n",
       "      <td>0.087</td>\n",
       "      <td>-10.698970</td>\n",
       "      <td>3.90</td>\n",
       "      <td>72</td>\n",
       "      <td>2.044</td>\n",
       "      <td>58910.7</td>\n",
       "      <td>1.3497</td>\n",
       "      <td>58.93</td>\n",
       "      <td>0.25</td>\n",
       "      <td>0.0627</td>\n",
       "      <td>4.438</td>\n",
       "      <td>4.438</td>\n",
       "      <td>4.438</td>\n",
       "      <td>81.0</td>\n",
       "      <td>81.0</td>\n",
       "      <td>81.0</td>\n",
       "      <td>3.78</td>\n",
       "      <td>3.78</td>\n",
       "      <td>3.78</td>\n",
       "      <td>15.0</td>\n",
       "      <td>15.0</td>\n",
       "      <td>15.0</td>\n",
       "      <td>-0.1342</td>\n",
       "      <td>-0.1342</td>\n",
       "      <td>-0.1342</td>\n",
       "    </tr>\n",
       "    <tr>\n",
       "      <th>50</th>\n",
       "      <td>52</td>\n",
       "      <td>ZIF-67</td>\n",
       "      <td>ethane</td>\n",
       "      <td>27</td>\n",
       "      <td>3.32</td>\n",
       "      <td>3.72</td>\n",
       "      <td>30.070</td>\n",
       "      <td>0.099</td>\n",
       "      <td>-11.397940</td>\n",
       "      <td>4.00</td>\n",
       "      <td>72</td>\n",
       "      <td>2.044</td>\n",
       "      <td>58910.7</td>\n",
       "      <td>1.3497</td>\n",
       "      <td>58.93</td>\n",
       "      <td>0.25</td>\n",
       "      <td>0.0627</td>\n",
       "      <td>4.438</td>\n",
       "      <td>4.438</td>\n",
       "      <td>4.438</td>\n",
       "      <td>81.0</td>\n",
       "      <td>81.0</td>\n",
       "      <td>81.0</td>\n",
       "      <td>3.78</td>\n",
       "      <td>3.78</td>\n",
       "      <td>3.78</td>\n",
       "      <td>15.0</td>\n",
       "      <td>15.0</td>\n",
       "      <td>15.0</td>\n",
       "      <td>-0.1342</td>\n",
       "      <td>-0.1342</td>\n",
       "      <td>-0.1342</td>\n",
       "    </tr>\n",
       "    <tr>\n",
       "      <th>51</th>\n",
       "      <td>53</td>\n",
       "      <td>ZIF-67</td>\n",
       "      <td>propylene</td>\n",
       "      <td>27</td>\n",
       "      <td>3.32</td>\n",
       "      <td>4.03</td>\n",
       "      <td>42.080</td>\n",
       "      <td>0.142</td>\n",
       "      <td>-12.522879</td>\n",
       "      <td>4.50</td>\n",
       "      <td>72</td>\n",
       "      <td>2.044</td>\n",
       "      <td>58910.7</td>\n",
       "      <td>1.3497</td>\n",
       "      <td>58.93</td>\n",
       "      <td>0.25</td>\n",
       "      <td>0.0627</td>\n",
       "      <td>4.438</td>\n",
       "      <td>4.438</td>\n",
       "      <td>4.438</td>\n",
       "      <td>81.0</td>\n",
       "      <td>81.0</td>\n",
       "      <td>81.0</td>\n",
       "      <td>3.78</td>\n",
       "      <td>3.78</td>\n",
       "      <td>3.78</td>\n",
       "      <td>15.0</td>\n",
       "      <td>15.0</td>\n",
       "      <td>15.0</td>\n",
       "      <td>-0.1342</td>\n",
       "      <td>-0.1342</td>\n",
       "      <td>-0.1342</td>\n",
       "    </tr>\n",
       "    <tr>\n",
       "      <th>52</th>\n",
       "      <td>54</td>\n",
       "      <td>ZIF-67</td>\n",
       "      <td>propane</td>\n",
       "      <td>27</td>\n",
       "      <td>3.32</td>\n",
       "      <td>4.16</td>\n",
       "      <td>44.100</td>\n",
       "      <td>0.152</td>\n",
       "      <td>-14.823909</td>\n",
       "      <td>4.30</td>\n",
       "      <td>72</td>\n",
       "      <td>2.044</td>\n",
       "      <td>58910.7</td>\n",
       "      <td>1.3497</td>\n",
       "      <td>58.93</td>\n",
       "      <td>0.25</td>\n",
       "      <td>0.0627</td>\n",
       "      <td>4.438</td>\n",
       "      <td>4.438</td>\n",
       "      <td>4.438</td>\n",
       "      <td>81.0</td>\n",
       "      <td>81.0</td>\n",
       "      <td>81.0</td>\n",
       "      <td>3.78</td>\n",
       "      <td>3.78</td>\n",
       "      <td>3.78</td>\n",
       "      <td>15.0</td>\n",
       "      <td>15.0</td>\n",
       "      <td>15.0</td>\n",
       "      <td>-0.1342</td>\n",
       "      <td>-0.1342</td>\n",
       "      <td>-0.1342</td>\n",
       "    </tr>\n",
       "    <tr>\n",
       "      <th>53</th>\n",
       "      <td>55</td>\n",
       "      <td>ZIF-67</td>\n",
       "      <td>butane</td>\n",
       "      <td>27</td>\n",
       "      <td>3.32</td>\n",
       "      <td>4.52</td>\n",
       "      <td>58.120</td>\n",
       "      <td>0.200</td>\n",
       "      <td>-16.251812</td>\n",
       "      <td>4.50</td>\n",
       "      <td>72</td>\n",
       "      <td>2.044</td>\n",
       "      <td>58910.7</td>\n",
       "      <td>1.3497</td>\n",
       "      <td>58.93</td>\n",
       "      <td>0.25</td>\n",
       "      <td>0.0627</td>\n",
       "      <td>4.438</td>\n",
       "      <td>4.438</td>\n",
       "      <td>4.438</td>\n",
       "      <td>81.0</td>\n",
       "      <td>81.0</td>\n",
       "      <td>81.0</td>\n",
       "      <td>3.78</td>\n",
       "      <td>3.78</td>\n",
       "      <td>3.78</td>\n",
       "      <td>15.0</td>\n",
       "      <td>15.0</td>\n",
       "      <td>15.0</td>\n",
       "      <td>-0.1342</td>\n",
       "      <td>-0.1342</td>\n",
       "      <td>-0.1342</td>\n",
       "    </tr>\n",
       "    <tr>\n",
       "      <th>54</th>\n",
       "      <td>56</td>\n",
       "      <td>ZIF-67</td>\n",
       "      <td>Kr</td>\n",
       "      <td>27</td>\n",
       "      <td>3.32</td>\n",
       "      <td>4.00</td>\n",
       "      <td>83.800</td>\n",
       "      <td>0.005</td>\n",
       "      <td>-11.078314</td>\n",
       "      <td>3.69</td>\n",
       "      <td>72</td>\n",
       "      <td>2.044</td>\n",
       "      <td>58910.7</td>\n",
       "      <td>1.3497</td>\n",
       "      <td>58.93</td>\n",
       "      <td>0.25</td>\n",
       "      <td>0.0627</td>\n",
       "      <td>4.438</td>\n",
       "      <td>4.438</td>\n",
       "      <td>4.438</td>\n",
       "      <td>81.0</td>\n",
       "      <td>81.0</td>\n",
       "      <td>81.0</td>\n",
       "      <td>3.78</td>\n",
       "      <td>3.78</td>\n",
       "      <td>3.78</td>\n",
       "      <td>15.0</td>\n",
       "      <td>15.0</td>\n",
       "      <td>15.0</td>\n",
       "      <td>-0.1342</td>\n",
       "      <td>-0.1342</td>\n",
       "      <td>-0.1342</td>\n",
       "    </tr>\n",
       "    <tr>\n",
       "      <th>55</th>\n",
       "      <td>57</td>\n",
       "      <td>ZIF-67</td>\n",
       "      <td>Xe</td>\n",
       "      <td>27</td>\n",
       "      <td>3.32</td>\n",
       "      <td>4.10</td>\n",
       "      <td>131.290</td>\n",
       "      <td>0.008</td>\n",
       "      <td>-15.031517</td>\n",
       "      <td>4.10</td>\n",
       "      <td>72</td>\n",
       "      <td>2.044</td>\n",
       "      <td>58910.7</td>\n",
       "      <td>1.3497</td>\n",
       "      <td>58.93</td>\n",
       "      <td>0.25</td>\n",
       "      <td>0.0627</td>\n",
       "      <td>4.438</td>\n",
       "      <td>4.438</td>\n",
       "      <td>4.438</td>\n",
       "      <td>81.0</td>\n",
       "      <td>81.0</td>\n",
       "      <td>81.0</td>\n",
       "      <td>3.78</td>\n",
       "      <td>3.78</td>\n",
       "      <td>3.78</td>\n",
       "      <td>15.0</td>\n",
       "      <td>15.0</td>\n",
       "      <td>15.0</td>\n",
       "      <td>-0.1342</td>\n",
       "      <td>-0.1342</td>\n",
       "      <td>-0.1342</td>\n",
       "    </tr>\n",
       "    <tr>\n",
       "      <th>56</th>\n",
       "      <td>59</td>\n",
       "      <td>ZIF-67</td>\n",
       "      <td>Rn</td>\n",
       "      <td>27</td>\n",
       "      <td>3.32</td>\n",
       "      <td>4.20</td>\n",
       "      <td>222.000</td>\n",
       "      <td>0.008</td>\n",
       "      <td>-16.721246</td>\n",
       "      <td>4.20</td>\n",
       "      <td>72</td>\n",
       "      <td>2.044</td>\n",
       "      <td>58910.7</td>\n",
       "      <td>1.3497</td>\n",
       "      <td>58.93</td>\n",
       "      <td>0.25</td>\n",
       "      <td>0.0627</td>\n",
       "      <td>4.438</td>\n",
       "      <td>4.438</td>\n",
       "      <td>4.438</td>\n",
       "      <td>81.0</td>\n",
       "      <td>81.0</td>\n",
       "      <td>81.0</td>\n",
       "      <td>3.78</td>\n",
       "      <td>3.78</td>\n",
       "      <td>3.78</td>\n",
       "      <td>15.0</td>\n",
       "      <td>15.0</td>\n",
       "      <td>15.0</td>\n",
       "      <td>-0.1342</td>\n",
       "      <td>-0.1342</td>\n",
       "      <td>-0.1342</td>\n",
       "    </tr>\n",
       "  </tbody>\n",
       "</table>\n",
       "</div>"
      ],
      "text/plain": [
       "    index    type        gas  MetalNum  aperture  diameter     mass  \\\n",
       "43     45  ZIF-67         He        27      3.32      2.66    4.002   \n",
       "44     46  ZIF-67         H2        27      3.32      2.76    2.010   \n",
       "45     47  ZIF-67         O2        27      3.32      2.94   31.999   \n",
       "46     48  ZIF-67        CO2        27      3.32      3.24   44.010   \n",
       "47     49  ZIF-67         N2        27      3.32      3.13   28.000   \n",
       "48     50  ZIF-67        CH4        27      3.32      3.25   16.040   \n",
       "49     51  ZIF-67   ethylene        27      3.32      3.59   28.050   \n",
       "50     52  ZIF-67     ethane        27      3.32      3.72   30.070   \n",
       "51     53  ZIF-67  propylene        27      3.32      4.03   42.080   \n",
       "52     54  ZIF-67    propane        27      3.32      4.16   44.100   \n",
       "53     55  ZIF-67     butane        27      3.32      4.52   58.120   \n",
       "54     56  ZIF-67         Kr        27      3.32      4.00   83.800   \n",
       "55     57  ZIF-67         Xe        27      3.32      4.10  131.290   \n",
       "56     59  ZIF-67         Rn        27      3.32      4.20  222.000   \n",
       "\n",
       "    ascentricF       logD  kdiameter  ionicRad  Μ-N_lff  Μ-N_kFF  MetalCharge  \\\n",
       "43      -0.390  -7.872895       2.60        72    2.044  58910.7       1.3497   \n",
       "44      -0.217  -8.060481       2.89        72    2.044  58910.7       1.3497   \n",
       "45       0.022  -9.010105       3.46        72    2.044  58910.7       1.3497   \n",
       "46       0.225  -9.352617       3.30        72    2.044  58910.7       1.3497   \n",
       "47       0.037  -9.602060       3.64        72    2.044  58910.7       1.3497   \n",
       "48       0.011 -11.364516       3.80        72    2.044  58910.7       1.3497   \n",
       "49       0.087 -10.698970       3.90        72    2.044  58910.7       1.3497   \n",
       "50       0.099 -11.397940       4.00        72    2.044  58910.7       1.3497   \n",
       "51       0.142 -12.522879       4.50        72    2.044  58910.7       1.3497   \n",
       "52       0.152 -14.823909       4.30        72    2.044  58910.7       1.3497   \n",
       "53       0.200 -16.251812       4.50        72    2.044  58910.7       1.3497   \n",
       "54       0.005 -11.078314       3.69        72    2.044  58910.7       1.3497   \n",
       "55       0.008 -15.031517       4.10        72    2.044  58910.7       1.3497   \n",
       "56       0.008 -16.721246       4.20        72    2.044  58910.7       1.3497   \n",
       "\n",
       "    MetalMass     σ       e  linker_length1  linker_length2  linker_length3  \\\n",
       "43      58.93  0.25  0.0627           4.438           4.438           4.438   \n",
       "44      58.93  0.25  0.0627           4.438           4.438           4.438   \n",
       "45      58.93  0.25  0.0627           4.438           4.438           4.438   \n",
       "46      58.93  0.25  0.0627           4.438           4.438           4.438   \n",
       "47      58.93  0.25  0.0627           4.438           4.438           4.438   \n",
       "48      58.93  0.25  0.0627           4.438           4.438           4.438   \n",
       "49      58.93  0.25  0.0627           4.438           4.438           4.438   \n",
       "50      58.93  0.25  0.0627           4.438           4.438           4.438   \n",
       "51      58.93  0.25  0.0627           4.438           4.438           4.438   \n",
       "52      58.93  0.25  0.0627           4.438           4.438           4.438   \n",
       "53      58.93  0.25  0.0627           4.438           4.438           4.438   \n",
       "54      58.93  0.25  0.0627           4.438           4.438           4.438   \n",
       "55      58.93  0.25  0.0627           4.438           4.438           4.438   \n",
       "56      58.93  0.25  0.0627           4.438           4.438           4.438   \n",
       "\n",
       "    linker_mass1  linker_mass2  linker_mass3  func1_length  func2_length  \\\n",
       "43          81.0          81.0          81.0          3.78          3.78   \n",
       "44          81.0          81.0          81.0          3.78          3.78   \n",
       "45          81.0          81.0          81.0          3.78          3.78   \n",
       "46          81.0          81.0          81.0          3.78          3.78   \n",
       "47          81.0          81.0          81.0          3.78          3.78   \n",
       "48          81.0          81.0          81.0          3.78          3.78   \n",
       "49          81.0          81.0          81.0          3.78          3.78   \n",
       "50          81.0          81.0          81.0          3.78          3.78   \n",
       "51          81.0          81.0          81.0          3.78          3.78   \n",
       "52          81.0          81.0          81.0          3.78          3.78   \n",
       "53          81.0          81.0          81.0          3.78          3.78   \n",
       "54          81.0          81.0          81.0          3.78          3.78   \n",
       "55          81.0          81.0          81.0          3.78          3.78   \n",
       "56          81.0          81.0          81.0          3.78          3.78   \n",
       "\n",
       "    func3_length  func1_mass  func2_mass  func3_mass  func1_charge  \\\n",
       "43          3.78        15.0        15.0        15.0       -0.1342   \n",
       "44          3.78        15.0        15.0        15.0       -0.1342   \n",
       "45          3.78        15.0        15.0        15.0       -0.1342   \n",
       "46          3.78        15.0        15.0        15.0       -0.1342   \n",
       "47          3.78        15.0        15.0        15.0       -0.1342   \n",
       "48          3.78        15.0        15.0        15.0       -0.1342   \n",
       "49          3.78        15.0        15.0        15.0       -0.1342   \n",
       "50          3.78        15.0        15.0        15.0       -0.1342   \n",
       "51          3.78        15.0        15.0        15.0       -0.1342   \n",
       "52          3.78        15.0        15.0        15.0       -0.1342   \n",
       "53          3.78        15.0        15.0        15.0       -0.1342   \n",
       "54          3.78        15.0        15.0        15.0       -0.1342   \n",
       "55          3.78        15.0        15.0        15.0       -0.1342   \n",
       "56          3.78        15.0        15.0        15.0       -0.1342   \n",
       "\n",
       "    func2_charge  func3_charge  \n",
       "43       -0.1342       -0.1342  \n",
       "44       -0.1342       -0.1342  \n",
       "45       -0.1342       -0.1342  \n",
       "46       -0.1342       -0.1342  \n",
       "47       -0.1342       -0.1342  \n",
       "48       -0.1342       -0.1342  \n",
       "49       -0.1342       -0.1342  \n",
       "50       -0.1342       -0.1342  \n",
       "51       -0.1342       -0.1342  \n",
       "52       -0.1342       -0.1342  \n",
       "53       -0.1342       -0.1342  \n",
       "54       -0.1342       -0.1342  \n",
       "55       -0.1342       -0.1342  \n",
       "56       -0.1342       -0.1342  "
      ]
     },
     "execution_count": 7,
     "metadata": {},
     "output_type": "execute_result"
    }
   ],
   "source": [
    "df2[(df2['type'] == 'ZIF-67')]\n",
    "# dfco2[(dfco2['logD'] >= -12)]"
   ]
  },
  {
   "cell_type": "code",
   "execution_count": 8,
   "metadata": {},
   "outputs": [
    {
     "name": "stdout",
     "output_type": "stream",
     "text": [
      "51   -12.522879\n",
      "Name: logD, dtype: float64\n",
      "52   -14.823909\n",
      "Name: logD, dtype: float64\n"
     ]
    }
   ],
   "source": [
    "a=df2[(df2['type'] == 'ZIF-67') & (df2['gas'] == 'propylene')]['logD']\n",
    "b=df2[(df2['type'] == 'ZIF-67') & (df2['gas'] == 'propane')]['logD']\n",
    "print(a)\n",
    "print(b)"
   ]
  },
  {
   "cell_type": "code",
   "execution_count": 9,
   "metadata": {},
   "outputs": [
    {
     "name": "stdout",
     "output_type": "stream",
     "text": [
      "2.3010299956639813\n"
     ]
    }
   ],
   "source": [
    "propylene = a.values[0]\n",
    "propane = b.values[0]\n",
    "Ratio = propylene - propane\n",
    "print(Ratio)"
   ]
  },
  {
   "cell_type": "code",
   "execution_count": 10,
   "metadata": {},
   "outputs": [],
   "source": [
    "# dfc3h6 = dfc3h6.drop([dfc3h6.index[3]])\n",
    "# dfc3h8 = dfc3h8.drop([dfc3h8.index[3]])\n",
    "df2.drop(df2[df2['type'] == 'ZIF-67'].index, inplace = True)"
   ]
  },
  {
   "cell_type": "code",
   "execution_count": 11,
   "metadata": {},
   "outputs": [
    {
     "data": {
      "text/html": [
       "<div>\n",
       "<style scoped>\n",
       "    .dataframe tbody tr th:only-of-type {\n",
       "        vertical-align: middle;\n",
       "    }\n",
       "\n",
       "    .dataframe tbody tr th {\n",
       "        vertical-align: top;\n",
       "    }\n",
       "\n",
       "    .dataframe thead th {\n",
       "        text-align: right;\n",
       "    }\n",
       "</style>\n",
       "<table border=\"1\" class=\"dataframe\">\n",
       "  <thead>\n",
       "    <tr style=\"text-align: right;\">\n",
       "      <th></th>\n",
       "      <th>index</th>\n",
       "      <th>type</th>\n",
       "      <th>gas</th>\n",
       "      <th>MetalNum</th>\n",
       "      <th>aperture</th>\n",
       "      <th>diameter</th>\n",
       "      <th>mass</th>\n",
       "      <th>ascentricF</th>\n",
       "      <th>logD</th>\n",
       "      <th>kdiameter</th>\n",
       "      <th>ionicRad</th>\n",
       "      <th>Μ-N_lff</th>\n",
       "      <th>Μ-N_kFF</th>\n",
       "      <th>MetalCharge</th>\n",
       "      <th>MetalMass</th>\n",
       "      <th>σ</th>\n",
       "      <th>e</th>\n",
       "      <th>linker_length1</th>\n",
       "      <th>linker_length2</th>\n",
       "      <th>linker_length3</th>\n",
       "      <th>linker_mass1</th>\n",
       "      <th>linker_mass2</th>\n",
       "      <th>linker_mass3</th>\n",
       "      <th>func1_length</th>\n",
       "      <th>func2_length</th>\n",
       "      <th>func3_length</th>\n",
       "      <th>func1_mass</th>\n",
       "      <th>func2_mass</th>\n",
       "      <th>func3_mass</th>\n",
       "      <th>func1_charge</th>\n",
       "      <th>func2_charge</th>\n",
       "      <th>func3_charge</th>\n",
       "    </tr>\n",
       "  </thead>\n",
       "  <tbody>\n",
       "    <tr>\n",
       "      <th>0</th>\n",
       "      <td>0</td>\n",
       "      <td>CdIF-1</td>\n",
       "      <td>He</td>\n",
       "      <td>48</td>\n",
       "      <td>3.92</td>\n",
       "      <td>2.66</td>\n",
       "      <td>4.002</td>\n",
       "      <td>-0.390</td>\n",
       "      <td>-7.221849</td>\n",
       "      <td>2.60</td>\n",
       "      <td>92</td>\n",
       "      <td>2.257</td>\n",
       "      <td>45354.60</td>\n",
       "      <td>1.1901</td>\n",
       "      <td>112.411</td>\n",
       "      <td>0.250</td>\n",
       "      <td>0.0627</td>\n",
       "      <td>4.438</td>\n",
       "      <td>4.438</td>\n",
       "      <td>4.438</td>\n",
       "      <td>81.0</td>\n",
       "      <td>81.0</td>\n",
       "      <td>81.0</td>\n",
       "      <td>3.78</td>\n",
       "      <td>3.78</td>\n",
       "      <td>3.78</td>\n",
       "      <td>15.0</td>\n",
       "      <td>15.0</td>\n",
       "      <td>15.0</td>\n",
       "      <td>-0.1001</td>\n",
       "      <td>-0.1001</td>\n",
       "      <td>-0.1001</td>\n",
       "    </tr>\n",
       "    <tr>\n",
       "      <th>1</th>\n",
       "      <td>1</td>\n",
       "      <td>CdIF-1</td>\n",
       "      <td>H2</td>\n",
       "      <td>48</td>\n",
       "      <td>3.92</td>\n",
       "      <td>2.76</td>\n",
       "      <td>2.010</td>\n",
       "      <td>-0.217</td>\n",
       "      <td>-7.301030</td>\n",
       "      <td>2.89</td>\n",
       "      <td>92</td>\n",
       "      <td>2.257</td>\n",
       "      <td>45354.60</td>\n",
       "      <td>1.1901</td>\n",
       "      <td>112.411</td>\n",
       "      <td>0.250</td>\n",
       "      <td>0.0627</td>\n",
       "      <td>4.438</td>\n",
       "      <td>4.438</td>\n",
       "      <td>4.438</td>\n",
       "      <td>81.0</td>\n",
       "      <td>81.0</td>\n",
       "      <td>81.0</td>\n",
       "      <td>3.78</td>\n",
       "      <td>3.78</td>\n",
       "      <td>3.78</td>\n",
       "      <td>15.0</td>\n",
       "      <td>15.0</td>\n",
       "      <td>15.0</td>\n",
       "      <td>-0.1001</td>\n",
       "      <td>-0.1001</td>\n",
       "      <td>-0.1001</td>\n",
       "    </tr>\n",
       "    <tr>\n",
       "      <th>2</th>\n",
       "      <td>2</td>\n",
       "      <td>CdIF-1</td>\n",
       "      <td>O2</td>\n",
       "      <td>48</td>\n",
       "      <td>3.92</td>\n",
       "      <td>2.94</td>\n",
       "      <td>31.999</td>\n",
       "      <td>0.022</td>\n",
       "      <td>-8.000000</td>\n",
       "      <td>3.46</td>\n",
       "      <td>92</td>\n",
       "      <td>2.257</td>\n",
       "      <td>45354.60</td>\n",
       "      <td>1.1901</td>\n",
       "      <td>112.411</td>\n",
       "      <td>0.250</td>\n",
       "      <td>0.0627</td>\n",
       "      <td>4.438</td>\n",
       "      <td>4.438</td>\n",
       "      <td>4.438</td>\n",
       "      <td>81.0</td>\n",
       "      <td>81.0</td>\n",
       "      <td>81.0</td>\n",
       "      <td>3.78</td>\n",
       "      <td>3.78</td>\n",
       "      <td>3.78</td>\n",
       "      <td>15.0</td>\n",
       "      <td>15.0</td>\n",
       "      <td>15.0</td>\n",
       "      <td>-0.1001</td>\n",
       "      <td>-0.1001</td>\n",
       "      <td>-0.1001</td>\n",
       "    </tr>\n",
       "    <tr>\n",
       "      <th>3</th>\n",
       "      <td>3</td>\n",
       "      <td>CdIF-1</td>\n",
       "      <td>CO2</td>\n",
       "      <td>48</td>\n",
       "      <td>3.92</td>\n",
       "      <td>3.24</td>\n",
       "      <td>44.010</td>\n",
       "      <td>0.225</td>\n",
       "      <td>-8.397940</td>\n",
       "      <td>3.30</td>\n",
       "      <td>92</td>\n",
       "      <td>2.257</td>\n",
       "      <td>45354.60</td>\n",
       "      <td>1.1901</td>\n",
       "      <td>112.411</td>\n",
       "      <td>0.250</td>\n",
       "      <td>0.0627</td>\n",
       "      <td>4.438</td>\n",
       "      <td>4.438</td>\n",
       "      <td>4.438</td>\n",
       "      <td>81.0</td>\n",
       "      <td>81.0</td>\n",
       "      <td>81.0</td>\n",
       "      <td>3.78</td>\n",
       "      <td>3.78</td>\n",
       "      <td>3.78</td>\n",
       "      <td>15.0</td>\n",
       "      <td>15.0</td>\n",
       "      <td>15.0</td>\n",
       "      <td>-0.1001</td>\n",
       "      <td>-0.1001</td>\n",
       "      <td>-0.1001</td>\n",
       "    </tr>\n",
       "    <tr>\n",
       "      <th>4</th>\n",
       "      <td>4</td>\n",
       "      <td>CdIF-1</td>\n",
       "      <td>N2</td>\n",
       "      <td>48</td>\n",
       "      <td>3.92</td>\n",
       "      <td>3.13</td>\n",
       "      <td>28.000</td>\n",
       "      <td>0.037</td>\n",
       "      <td>-8.301030</td>\n",
       "      <td>3.64</td>\n",
       "      <td>92</td>\n",
       "      <td>2.257</td>\n",
       "      <td>45354.60</td>\n",
       "      <td>1.1901</td>\n",
       "      <td>112.411</td>\n",
       "      <td>0.250</td>\n",
       "      <td>0.0627</td>\n",
       "      <td>4.438</td>\n",
       "      <td>4.438</td>\n",
       "      <td>4.438</td>\n",
       "      <td>81.0</td>\n",
       "      <td>81.0</td>\n",
       "      <td>81.0</td>\n",
       "      <td>3.78</td>\n",
       "      <td>3.78</td>\n",
       "      <td>3.78</td>\n",
       "      <td>15.0</td>\n",
       "      <td>15.0</td>\n",
       "      <td>15.0</td>\n",
       "      <td>-0.1001</td>\n",
       "      <td>-0.1001</td>\n",
       "      <td>-0.1001</td>\n",
       "    </tr>\n",
       "    <tr>\n",
       "      <th>...</th>\n",
       "      <td>...</td>\n",
       "      <td>...</td>\n",
       "      <td>...</td>\n",
       "      <td>...</td>\n",
       "      <td>...</td>\n",
       "      <td>...</td>\n",
       "      <td>...</td>\n",
       "      <td>...</td>\n",
       "      <td>...</td>\n",
       "      <td>...</td>\n",
       "      <td>...</td>\n",
       "      <td>...</td>\n",
       "      <td>...</td>\n",
       "      <td>...</td>\n",
       "      <td>...</td>\n",
       "      <td>...</td>\n",
       "      <td>...</td>\n",
       "      <td>...</td>\n",
       "      <td>...</td>\n",
       "      <td>...</td>\n",
       "      <td>...</td>\n",
       "      <td>...</td>\n",
       "      <td>...</td>\n",
       "      <td>...</td>\n",
       "      <td>...</td>\n",
       "      <td>...</td>\n",
       "      <td>...</td>\n",
       "      <td>...</td>\n",
       "      <td>...</td>\n",
       "      <td>...</td>\n",
       "      <td>...</td>\n",
       "      <td>...</td>\n",
       "    </tr>\n",
       "    <tr>\n",
       "      <th>941</th>\n",
       "      <td>945</td>\n",
       "      <td>dIm_Mg</td>\n",
       "      <td>propylene</td>\n",
       "      <td>12</td>\n",
       "      <td>2.95</td>\n",
       "      <td>4.03</td>\n",
       "      <td>42.080</td>\n",
       "      <td>0.142</td>\n",
       "      <td>-13.853872</td>\n",
       "      <td>4.50</td>\n",
       "      <td>71</td>\n",
       "      <td>2.139</td>\n",
       "      <td>38994.88</td>\n",
       "      <td>1.9871</td>\n",
       "      <td>24.305</td>\n",
       "      <td>0.367</td>\n",
       "      <td>1.2552</td>\n",
       "      <td>6.410</td>\n",
       "      <td>6.410</td>\n",
       "      <td>6.410</td>\n",
       "      <td>317.8</td>\n",
       "      <td>317.8</td>\n",
       "      <td>317.8</td>\n",
       "      <td>3.78</td>\n",
       "      <td>3.78</td>\n",
       "      <td>3.78</td>\n",
       "      <td>15.0</td>\n",
       "      <td>15.0</td>\n",
       "      <td>15.0</td>\n",
       "      <td>-0.2710</td>\n",
       "      <td>-0.2710</td>\n",
       "      <td>-0.2710</td>\n",
       "    </tr>\n",
       "    <tr>\n",
       "      <th>942</th>\n",
       "      <td>946</td>\n",
       "      <td>dIm_Mg</td>\n",
       "      <td>propane</td>\n",
       "      <td>12</td>\n",
       "      <td>2.95</td>\n",
       "      <td>4.16</td>\n",
       "      <td>44.100</td>\n",
       "      <td>0.152</td>\n",
       "      <td>-17.397940</td>\n",
       "      <td>4.30</td>\n",
       "      <td>71</td>\n",
       "      <td>2.139</td>\n",
       "      <td>38994.88</td>\n",
       "      <td>1.9871</td>\n",
       "      <td>24.305</td>\n",
       "      <td>0.367</td>\n",
       "      <td>1.2552</td>\n",
       "      <td>6.410</td>\n",
       "      <td>6.410</td>\n",
       "      <td>6.410</td>\n",
       "      <td>317.8</td>\n",
       "      <td>317.8</td>\n",
       "      <td>317.8</td>\n",
       "      <td>3.78</td>\n",
       "      <td>3.78</td>\n",
       "      <td>3.78</td>\n",
       "      <td>15.0</td>\n",
       "      <td>15.0</td>\n",
       "      <td>15.0</td>\n",
       "      <td>-0.2710</td>\n",
       "      <td>-0.2710</td>\n",
       "      <td>-0.2710</td>\n",
       "    </tr>\n",
       "    <tr>\n",
       "      <th>943</th>\n",
       "      <td>947</td>\n",
       "      <td>dIm_Mg</td>\n",
       "      <td>Kr</td>\n",
       "      <td>12</td>\n",
       "      <td>2.95</td>\n",
       "      <td>4.00</td>\n",
       "      <td>83.800</td>\n",
       "      <td>0.005</td>\n",
       "      <td>-11.308919</td>\n",
       "      <td>3.69</td>\n",
       "      <td>71</td>\n",
       "      <td>2.139</td>\n",
       "      <td>38994.88</td>\n",
       "      <td>1.9871</td>\n",
       "      <td>24.305</td>\n",
       "      <td>0.367</td>\n",
       "      <td>1.2552</td>\n",
       "      <td>6.410</td>\n",
       "      <td>6.410</td>\n",
       "      <td>6.410</td>\n",
       "      <td>317.8</td>\n",
       "      <td>317.8</td>\n",
       "      <td>317.8</td>\n",
       "      <td>3.78</td>\n",
       "      <td>3.78</td>\n",
       "      <td>3.78</td>\n",
       "      <td>15.0</td>\n",
       "      <td>15.0</td>\n",
       "      <td>15.0</td>\n",
       "      <td>-0.2710</td>\n",
       "      <td>-0.2710</td>\n",
       "      <td>-0.2710</td>\n",
       "    </tr>\n",
       "    <tr>\n",
       "      <th>944</th>\n",
       "      <td>948</td>\n",
       "      <td>dIm_Mg</td>\n",
       "      <td>Xe</td>\n",
       "      <td>12</td>\n",
       "      <td>2.95</td>\n",
       "      <td>4.10</td>\n",
       "      <td>131.290</td>\n",
       "      <td>0.008</td>\n",
       "      <td>-15.924453</td>\n",
       "      <td>4.10</td>\n",
       "      <td>71</td>\n",
       "      <td>2.139</td>\n",
       "      <td>38994.88</td>\n",
       "      <td>1.9871</td>\n",
       "      <td>24.305</td>\n",
       "      <td>0.367</td>\n",
       "      <td>1.2552</td>\n",
       "      <td>6.410</td>\n",
       "      <td>6.410</td>\n",
       "      <td>6.410</td>\n",
       "      <td>317.8</td>\n",
       "      <td>317.8</td>\n",
       "      <td>317.8</td>\n",
       "      <td>3.78</td>\n",
       "      <td>3.78</td>\n",
       "      <td>3.78</td>\n",
       "      <td>15.0</td>\n",
       "      <td>15.0</td>\n",
       "      <td>15.0</td>\n",
       "      <td>-0.2710</td>\n",
       "      <td>-0.2710</td>\n",
       "      <td>-0.2710</td>\n",
       "    </tr>\n",
       "    <tr>\n",
       "      <th>945</th>\n",
       "      <td>949</td>\n",
       "      <td>dIm_Mg</td>\n",
       "      <td>Rn</td>\n",
       "      <td>12</td>\n",
       "      <td>2.95</td>\n",
       "      <td>4.20</td>\n",
       "      <td>222.000</td>\n",
       "      <td>0.008</td>\n",
       "      <td>-18.809668</td>\n",
       "      <td>4.20</td>\n",
       "      <td>71</td>\n",
       "      <td>2.139</td>\n",
       "      <td>38994.88</td>\n",
       "      <td>1.9871</td>\n",
       "      <td>24.305</td>\n",
       "      <td>0.367</td>\n",
       "      <td>1.2552</td>\n",
       "      <td>6.410</td>\n",
       "      <td>6.410</td>\n",
       "      <td>6.410</td>\n",
       "      <td>317.8</td>\n",
       "      <td>317.8</td>\n",
       "      <td>317.8</td>\n",
       "      <td>3.78</td>\n",
       "      <td>3.78</td>\n",
       "      <td>3.78</td>\n",
       "      <td>15.0</td>\n",
       "      <td>15.0</td>\n",
       "      <td>15.0</td>\n",
       "      <td>-0.2710</td>\n",
       "      <td>-0.2710</td>\n",
       "      <td>-0.2710</td>\n",
       "    </tr>\n",
       "  </tbody>\n",
       "</table>\n",
       "<p>932 rows × 32 columns</p>\n",
       "</div>"
      ],
      "text/plain": [
       "     index    type        gas  MetalNum  aperture  diameter     mass  \\\n",
       "0        0  CdIF-1         He        48      3.92      2.66    4.002   \n",
       "1        1  CdIF-1         H2        48      3.92      2.76    2.010   \n",
       "2        2  CdIF-1         O2        48      3.92      2.94   31.999   \n",
       "3        3  CdIF-1        CO2        48      3.92      3.24   44.010   \n",
       "4        4  CdIF-1         N2        48      3.92      3.13   28.000   \n",
       "..     ...     ...        ...       ...       ...       ...      ...   \n",
       "941    945  dIm_Mg  propylene        12      2.95      4.03   42.080   \n",
       "942    946  dIm_Mg    propane        12      2.95      4.16   44.100   \n",
       "943    947  dIm_Mg         Kr        12      2.95      4.00   83.800   \n",
       "944    948  dIm_Mg         Xe        12      2.95      4.10  131.290   \n",
       "945    949  dIm_Mg         Rn        12      2.95      4.20  222.000   \n",
       "\n",
       "     ascentricF       logD  kdiameter  ionicRad  Μ-N_lff   Μ-N_kFF  \\\n",
       "0        -0.390  -7.221849       2.60        92    2.257  45354.60   \n",
       "1        -0.217  -7.301030       2.89        92    2.257  45354.60   \n",
       "2         0.022  -8.000000       3.46        92    2.257  45354.60   \n",
       "3         0.225  -8.397940       3.30        92    2.257  45354.60   \n",
       "4         0.037  -8.301030       3.64        92    2.257  45354.60   \n",
       "..          ...        ...        ...       ...      ...       ...   \n",
       "941       0.142 -13.853872       4.50        71    2.139  38994.88   \n",
       "942       0.152 -17.397940       4.30        71    2.139  38994.88   \n",
       "943       0.005 -11.308919       3.69        71    2.139  38994.88   \n",
       "944       0.008 -15.924453       4.10        71    2.139  38994.88   \n",
       "945       0.008 -18.809668       4.20        71    2.139  38994.88   \n",
       "\n",
       "     MetalCharge  MetalMass      σ       e  linker_length1  linker_length2  \\\n",
       "0         1.1901    112.411  0.250  0.0627           4.438           4.438   \n",
       "1         1.1901    112.411  0.250  0.0627           4.438           4.438   \n",
       "2         1.1901    112.411  0.250  0.0627           4.438           4.438   \n",
       "3         1.1901    112.411  0.250  0.0627           4.438           4.438   \n",
       "4         1.1901    112.411  0.250  0.0627           4.438           4.438   \n",
       "..           ...        ...    ...     ...             ...             ...   \n",
       "941       1.9871     24.305  0.367  1.2552           6.410           6.410   \n",
       "942       1.9871     24.305  0.367  1.2552           6.410           6.410   \n",
       "943       1.9871     24.305  0.367  1.2552           6.410           6.410   \n",
       "944       1.9871     24.305  0.367  1.2552           6.410           6.410   \n",
       "945       1.9871     24.305  0.367  1.2552           6.410           6.410   \n",
       "\n",
       "     linker_length3  linker_mass1  linker_mass2  linker_mass3  func1_length  \\\n",
       "0             4.438          81.0          81.0          81.0          3.78   \n",
       "1             4.438          81.0          81.0          81.0          3.78   \n",
       "2             4.438          81.0          81.0          81.0          3.78   \n",
       "3             4.438          81.0          81.0          81.0          3.78   \n",
       "4             4.438          81.0          81.0          81.0          3.78   \n",
       "..              ...           ...           ...           ...           ...   \n",
       "941           6.410         317.8         317.8         317.8          3.78   \n",
       "942           6.410         317.8         317.8         317.8          3.78   \n",
       "943           6.410         317.8         317.8         317.8          3.78   \n",
       "944           6.410         317.8         317.8         317.8          3.78   \n",
       "945           6.410         317.8         317.8         317.8          3.78   \n",
       "\n",
       "     func2_length  func3_length  func1_mass  func2_mass  func3_mass  \\\n",
       "0            3.78          3.78        15.0        15.0        15.0   \n",
       "1            3.78          3.78        15.0        15.0        15.0   \n",
       "2            3.78          3.78        15.0        15.0        15.0   \n",
       "3            3.78          3.78        15.0        15.0        15.0   \n",
       "4            3.78          3.78        15.0        15.0        15.0   \n",
       "..            ...           ...         ...         ...         ...   \n",
       "941          3.78          3.78        15.0        15.0        15.0   \n",
       "942          3.78          3.78        15.0        15.0        15.0   \n",
       "943          3.78          3.78        15.0        15.0        15.0   \n",
       "944          3.78          3.78        15.0        15.0        15.0   \n",
       "945          3.78          3.78        15.0        15.0        15.0   \n",
       "\n",
       "     func1_charge  func2_charge  func3_charge  \n",
       "0         -0.1001       -0.1001       -0.1001  \n",
       "1         -0.1001       -0.1001       -0.1001  \n",
       "2         -0.1001       -0.1001       -0.1001  \n",
       "3         -0.1001       -0.1001       -0.1001  \n",
       "4         -0.1001       -0.1001       -0.1001  \n",
       "..            ...           ...           ...  \n",
       "941       -0.2710       -0.2710       -0.2710  \n",
       "942       -0.2710       -0.2710       -0.2710  \n",
       "943       -0.2710       -0.2710       -0.2710  \n",
       "944       -0.2710       -0.2710       -0.2710  \n",
       "945       -0.2710       -0.2710       -0.2710  \n",
       "\n",
       "[932 rows x 32 columns]"
      ]
     },
     "execution_count": 11,
     "metadata": {},
     "output_type": "execute_result"
    }
   ],
   "source": [
    "df2"
   ]
  },
  {
   "cell_type": "code",
   "execution_count": 12,
   "metadata": {},
   "outputs": [],
   "source": [
    "# dfc3h6=dfc3h6.reset_index()\n",
    "# dfc3h6=dfc3h6.drop(columns=['index'])\n",
    "\n",
    "# dfc3h8=dfc3h8.reset_index()\n",
    "# dfc3h8=dfc3h8.drop(columns=['index'])"
   ]
  },
  {
   "cell_type": "markdown",
   "metadata": {},
   "source": [
    "## ML models"
   ]
  },
  {
   "cell_type": "code",
   "execution_count": 13,
   "metadata": {},
   "outputs": [
    {
     "data": {
      "text/html": [
       "<div>\n",
       "<style scoped>\n",
       "    .dataframe tbody tr th:only-of-type {\n",
       "        vertical-align: middle;\n",
       "    }\n",
       "\n",
       "    .dataframe tbody tr th {\n",
       "        vertical-align: top;\n",
       "    }\n",
       "\n",
       "    .dataframe thead th {\n",
       "        text-align: right;\n",
       "    }\n",
       "</style>\n",
       "<table border=\"1\" class=\"dataframe\">\n",
       "  <thead>\n",
       "    <tr style=\"text-align: right;\">\n",
       "      <th></th>\n",
       "      <th>MetalNum</th>\n",
       "      <th>linker_length1</th>\n",
       "      <th>linker_length2</th>\n",
       "      <th>linker_length3</th>\n",
       "      <th>func1_length</th>\n",
       "      <th>func2_length</th>\n",
       "      <th>func3_length</th>\n",
       "    </tr>\n",
       "  </thead>\n",
       "  <tbody>\n",
       "    <tr>\n",
       "      <th>0</th>\n",
       "      <td>48</td>\n",
       "      <td>4.438</td>\n",
       "      <td>4.438</td>\n",
       "      <td>4.438</td>\n",
       "      <td>3.78</td>\n",
       "      <td>3.78</td>\n",
       "      <td>3.780</td>\n",
       "    </tr>\n",
       "    <tr>\n",
       "      <th>1</th>\n",
       "      <td>30</td>\n",
       "      <td>4.438</td>\n",
       "      <td>4.438</td>\n",
       "      <td>4.438</td>\n",
       "      <td>3.78</td>\n",
       "      <td>3.78</td>\n",
       "      <td>3.780</td>\n",
       "    </tr>\n",
       "    <tr>\n",
       "      <th>2</th>\n",
       "      <td>29</td>\n",
       "      <td>4.438</td>\n",
       "      <td>4.438</td>\n",
       "      <td>4.438</td>\n",
       "      <td>3.78</td>\n",
       "      <td>3.78</td>\n",
       "      <td>3.780</td>\n",
       "    </tr>\n",
       "    <tr>\n",
       "      <th>3</th>\n",
       "      <td>4</td>\n",
       "      <td>4.438</td>\n",
       "      <td>4.438</td>\n",
       "      <td>4.438</td>\n",
       "      <td>3.78</td>\n",
       "      <td>3.78</td>\n",
       "      <td>3.780</td>\n",
       "    </tr>\n",
       "    <tr>\n",
       "      <th>4</th>\n",
       "      <td>30</td>\n",
       "      <td>4.438</td>\n",
       "      <td>4.438</td>\n",
       "      <td>5.996</td>\n",
       "      <td>3.78</td>\n",
       "      <td>3.78</td>\n",
       "      <td>2.278</td>\n",
       "    </tr>\n",
       "    <tr>\n",
       "      <th>...</th>\n",
       "      <td>...</td>\n",
       "      <td>...</td>\n",
       "      <td>...</td>\n",
       "      <td>...</td>\n",
       "      <td>...</td>\n",
       "      <td>...</td>\n",
       "      <td>...</td>\n",
       "    </tr>\n",
       "    <tr>\n",
       "      <th>66</th>\n",
       "      <td>4</td>\n",
       "      <td>6.410</td>\n",
       "      <td>6.410</td>\n",
       "      <td>6.410</td>\n",
       "      <td>3.78</td>\n",
       "      <td>3.78</td>\n",
       "      <td>3.780</td>\n",
       "    </tr>\n",
       "    <tr>\n",
       "      <th>67</th>\n",
       "      <td>27</td>\n",
       "      <td>6.410</td>\n",
       "      <td>6.410</td>\n",
       "      <td>6.410</td>\n",
       "      <td>3.78</td>\n",
       "      <td>3.78</td>\n",
       "      <td>3.780</td>\n",
       "    </tr>\n",
       "    <tr>\n",
       "      <th>68</th>\n",
       "      <td>29</td>\n",
       "      <td>6.410</td>\n",
       "      <td>6.410</td>\n",
       "      <td>6.410</td>\n",
       "      <td>3.78</td>\n",
       "      <td>3.78</td>\n",
       "      <td>3.780</td>\n",
       "    </tr>\n",
       "    <tr>\n",
       "      <th>69</th>\n",
       "      <td>48</td>\n",
       "      <td>6.410</td>\n",
       "      <td>6.410</td>\n",
       "      <td>6.410</td>\n",
       "      <td>3.78</td>\n",
       "      <td>3.78</td>\n",
       "      <td>3.780</td>\n",
       "    </tr>\n",
       "    <tr>\n",
       "      <th>70</th>\n",
       "      <td>12</td>\n",
       "      <td>6.410</td>\n",
       "      <td>6.410</td>\n",
       "      <td>6.410</td>\n",
       "      <td>3.78</td>\n",
       "      <td>3.78</td>\n",
       "      <td>3.780</td>\n",
       "    </tr>\n",
       "  </tbody>\n",
       "</table>\n",
       "<p>71 rows × 7 columns</p>\n",
       "</div>"
      ],
      "text/plain": [
       "    MetalNum  linker_length1  linker_length2  linker_length3  func1_length  \\\n",
       "0         48           4.438           4.438           4.438          3.78   \n",
       "1         30           4.438           4.438           4.438          3.78   \n",
       "2         29           4.438           4.438           4.438          3.78   \n",
       "3          4           4.438           4.438           4.438          3.78   \n",
       "4         30           4.438           4.438           5.996          3.78   \n",
       "..       ...             ...             ...             ...           ...   \n",
       "66         4           6.410           6.410           6.410          3.78   \n",
       "67        27           6.410           6.410           6.410          3.78   \n",
       "68        29           6.410           6.410           6.410          3.78   \n",
       "69        48           6.410           6.410           6.410          3.78   \n",
       "70        12           6.410           6.410           6.410          3.78   \n",
       "\n",
       "    func2_length  func3_length  \n",
       "0           3.78         3.780  \n",
       "1           3.78         3.780  \n",
       "2           3.78         3.780  \n",
       "3           3.78         3.780  \n",
       "4           3.78         2.278  \n",
       "..           ...           ...  \n",
       "66          3.78         3.780  \n",
       "67          3.78         3.780  \n",
       "68          3.78         3.780  \n",
       "69          3.78         3.780  \n",
       "70          3.78         3.780  \n",
       "\n",
       "[71 rows x 7 columns]"
      ]
     },
     "execution_count": 13,
     "metadata": {},
     "output_type": "execute_result"
    }
   ],
   "source": [
    "df3 = df2[[\n",
    "    # 'diameter',\n",
    "     'MetalNum',  \n",
    "     'linker_length1', 'linker_length2', 'linker_length3',\n",
    "    'func1_length', 'func2_length', 'func3_length' \n",
    "                                 ]]\n",
    "\n",
    "df4 = df3.drop_duplicates()\n",
    "df4 = df4.reset_index(drop=True)\n",
    "df4\n"
   ]
  },
  {
   "cell_type": "markdown",
   "metadata": {},
   "source": [
    "# ga_instance.plot_genes()"
   ]
  },
  {
   "cell_type": "markdown",
   "metadata": {},
   "source": [
    "## Add more descriptors"
   ]
  },
  {
   "cell_type": "markdown",
   "metadata": {},
   "source": [
    "## Model with only metal, aperture_e, lengths of linker1&3 and functional1&3"
   ]
  },
  {
   "cell_type": "code",
   "execution_count": 14,
   "metadata": {},
   "outputs": [],
   "source": [
    "Genes = np.asanyarray(df4[[\n",
    "    # 'diameter',\n",
    "     'MetalNum',  \n",
    "     'linker_length1', 'linker_length2', 'linker_length3',\n",
    "    'func1_length', 'func2_length', 'func3_length' \n",
    "                                 ]])\n",
    "\n",
    "x_all = np.asanyarray(df2[[ \n",
    "    'diameter',\n",
    "    'mass',\n",
    "    'ascentricF',\n",
    "    'kdiameter',\n",
    "    'MetalNum',  \n",
    "    'linker_length1', 'linker_length2', 'linker_length3',\n",
    "    'func1_length', 'func2_length', 'func3_length',\n",
    "    'ionicRad', 'MetalMass',\n",
    "    'linker_mass1', 'linker_mass2', 'linker_mass3',\n",
    "    'σ', 'e', \n",
    "    'func1_mass', 'func2_mass', 'func3_mass'\n",
    "                            ]])\n",
    "\n",
    "\n",
    "y_all = np.array(df2[['logD']])"
   ]
  },
  {
   "cell_type": "markdown",
   "metadata": {},
   "source": [
    "# Libraries"
   ]
  },
  {
   "cell_type": "code",
   "execution_count": 15,
   "metadata": {},
   "outputs": [],
   "source": [
    "linker_length1 = {3.66:{'linker_mass1':83, 'σ':0.325, 'e':0.7112},\n",
    "                 4.438:{'linker_mass1':81, 'σ':0.25, 'e':0.0627},\n",
    "                  4.86:{'linker_mass1':101.98, 'σ':0.285, 'e':0.255},\n",
    "                   5.7:{'linker_mass1':134.906, 'σ':0.34, 'e':1.2552},\n",
    "                  6.01:{'linker_mass1':223.8, 'σ':0.4, 'e':0.0627},\n",
    "                  6.41:{'linker_mass1':317.8, 'σ':0.367, 'e':1.8731}\n",
    "                  }\n",
    "\n",
    "linker_length2 = {3.66:{'linker_mass2':83, 'σ':0.325, 'e':0.7112},\n",
    "                 4.438:{'linker_mass2':81, 'σ':0.25, 'e':0.0627},\n",
    "                  4.86:{'linker_mass2':101.98, 'σ':0.285, 'e':0.255},\n",
    "                   5.7:{'linker_mass2':134.906, 'σ':0.34, 'e':1.2552},\n",
    "                  6.01:{'linker_mass2':223.8, 'σ':0.4, 'e':0.0627},\n",
    "                  6.41:{'linker_mass2':317.8, 'σ':0.367, 'e':1.8731}\n",
    "                  }\n",
    "linker_length3 = {3.66:{'linker_mass3':83, 'σ':0.325, 'e':0.7112},\n",
    "                 4.438:{'linker_mass3':81, 'σ':0.25, 'e':0.0627},\n",
    "                  4.86:{'linker_mass3':101.98, 'σ':0.285, 'e':0.255},\n",
    "                   5.7:{'linker_mass3':134.906, 'σ':0.34, 'e':1.2552},\n",
    "                 5.996:{'linker_mass3':117., 'σ':0.25, 'e':0.0627},\n",
    "                  6.01:{'linker_mass3':223.8, 'σ':0.4, 'e':0.0627},\n",
    "                  6.41:{'linker_mass3':317.8, 'σ':0.367, 'e':1.8731}\n",
    "                  }\n",
    "\n",
    "func1_length = {2.278:{'func1_mass':1.},\n",
    "                 3.54:{'func1_mass':35.45},\n",
    "                  3.78:{'func1_mass':15.},\n",
    "                   3.85:{'func1_mass':79.9},\n",
    "                  3.927:{'func1_mass':16.},\n",
    "                  4.093:{'func1_mass':31.}\n",
    "                  }\n",
    "\n",
    "func2_length = {2.278:{'func2_mass':1.},\n",
    "                 3.54:{'func2_mass':35.45},\n",
    "                  3.78:{'func2_mass':15.},\n",
    "                   3.85:{'func2_mass':79.9},\n",
    "                  3.927:{'func2_mass':16.},\n",
    "                  4.093:{'func2_mass':31.}\n",
    "                  }\n",
    "\n",
    "func3_length = {2.278:{'func3_mass':1.},\n",
    "                    2.7:{'func3_mass':18.99},\n",
    "                  3.54:{'func3_mass':35.45},\n",
    "                  3.78:{'func3_mass':15.},\n",
    "                   3.85:{'func3_mass':79.9},\n",
    "                  3.927:{'func3_mass':16.},\n",
    "                  4.093:{'func3_mass':31.},\n",
    "                   4.25:{'func3_mass':127.},\n",
    "                  }\n",
    "MetalNum = {4:{'ionicRad':41, 'MetalMass': 9.012},\n",
    "           29:{'ionicRad':71,'MetalMass': 63.456},\n",
    "           12:{'ionicRad':71, 'MetalMass': 24.305},\n",
    "           27:{'ionicRad':72, 'MetalMass': 58.930},\n",
    "           30:{'ionicRad':74, 'MetalMass': 65.380},\n",
    "           25:{'ionicRad':80, 'MetalMass': 54.938},\n",
    "           48:{'ionicRad':92, 'MetalMass': 112.411}}"
   ]
  },
  {
   "cell_type": "code",
   "execution_count": 16,
   "metadata": {},
   "outputs": [
    {
     "name": "stdout",
     "output_type": "stream",
     "text": [
      "[-12.435791]\n",
      "[-14.395962]\n",
      "[1.9601707]\n"
     ]
    }
   ],
   "source": [
    "GBR = GradientBoostingRegressor(n_estimators=200, learning_rate=0.2, max_depth=4, random_state=0,loss='squared_error')\n",
    "\n",
    "XGBR = XGBRegressor(n_estimators=500, max_depth=5, eta=0.07, subsample=0.75, colsample_bytree=0.7, reg_lambda=0.4, reg_alpha=0.13,\n",
    "                    # n_jobs=6,\n",
    "                    nthread=8,\n",
    "                    random_state=61\n",
    "                   )\n",
    "\n",
    "model = XGBR.fit(x_all, y_all)\n",
    "\n",
    "#ZIF-67\n",
    "predictionc3h8=model.predict([[4.16, 44.1, 0.152, 4.3, 27, 4.438, 4.438, 4.438, 3.78, 3.78, 3.78, 72, 58.93, 81, 81, 81, 0.25, 0.0627, 15, 15, 15 ]])\n",
    "predictionc3h6=model.predict([[4.03, 42.08, 0.142, 4.5, 27, 4.438, 4.438, 4.438, 3.78, 3.78, 3.78, 72, 58.93, 81, 81, 81, 0.25, 0.0627, 15, 15, 15 ]])\n",
    "\n",
    "\n",
    "print(predictionc3h6)\n",
    "print(predictionc3h8)\n",
    "\n",
    "S= predictionc3h6 - predictionc3h8\n",
    "print(S)"
   ]
  },
  {
   "cell_type": "markdown",
   "metadata": {},
   "source": [
    "## Set up my GA"
   ]
  },
  {
   "cell_type": "code",
   "execution_count": 129,
   "metadata": {},
   "outputs": [],
   "source": [
    "def fitness(solution, solution_idx):\n",
    "    diameter_c3h6 = np.array([4.03])\n",
    "    diameter_c3h8 = np.array([4.16])\n",
    "    mass_c3h6 = np.array([42.08])\n",
    "    mass_c3h8 = np.array([44.1])\n",
    "    ascF_c3h6 = np.array([0.142])\n",
    "    ascF_c3h8 = np.array([0.152])\n",
    "    kD_c3h6 = np.array([4.5])\n",
    "    kD_c3h8 = np.array([4.3])\n",
    "    \n",
    "    # targetD = -12.5\n",
    "    # targetR = 2\n",
    "    \n",
    "    boundaries_D = np.array([-13, -12])\n",
    "    boundaries_R = np.array([1.9, 2.1])\n",
    "    \n",
    "    solution2=np.array([\n",
    "                  MetalNum[solution[0]]['ionicRad'],\n",
    "                  MetalNum[solution[0]]['MetalMass'],\n",
    "                  linker_length1[solution[1]]['linker_mass1'],\n",
    "                  linker_length2[solution[2]]['linker_mass2'],\n",
    "                  linker_length3[solution[3]]['linker_mass3'],\n",
    "                  linker_length1[solution[1]]['σ'],\n",
    "                  linker_length1[solution[1]]['e'],\n",
    "                  func1_length[solution[4]]['func1_mass'],\n",
    "                  func2_length[solution[5]]['func2_mass'],\n",
    "                  func3_length[solution[6]]['func3_mass']])\n",
    "    \n",
    "    solution_c3h6=np.concatenate((diameter_c3h6, mass_c3h6, ascF_c3h6, kD_c3h6, solution,solution2), axis=0, out=None, dtype=None, casting=\"same_kind\")\n",
    "    solution_c3h8=np.concatenate((diameter_c3h8, mass_c3h8, ascF_c3h8, kD_c3h8,solution,solution2), axis=0, out=None, dtype=None, casting=\"same_kind\")\n",
    "    \n",
    "    estimated_c3h6_diffusivity  = model.predict([solution_c3h6])[0]\n",
    "    estimated_c3h8_diffusivity  = model.predict([solution_c3h8])[0]\n",
    "\n",
    "    Ratio = estimated_c3h6_diffusivity - estimated_c3h8_diffusivity\n",
    "    \n",
    "    DiffusivityContribution = 1.0/(abs(np.min(boundaries_D) - estimated_c3h6_diffusivity) + abs(np.max(boundaries_D) - estimated_c3h6_diffusivity))\n",
    "    RatiosContribution = 1.0/(abs(np.min(boundaries_R) - Ratio) + abs(np.max(boundaries_R) - Ratio))\n",
    "    \n",
    "    overallFitnessMeasure = 0.5*DiffusivityContribution + 0.5*RatiosContribution\n",
    "    return overallFitnessMeasure"
   ]
  },
  {
   "cell_type": "code",
   "execution_count": 131,
   "metadata": {},
   "outputs": [],
   "source": [
    "fitness_function = fitness\n",
    "\n",
    "num_generations = 200 # 2000, 12000\n",
    "num_parents_mating = 10 # 20,  22  #number of solutions to be selected as parents\n",
    " \n",
    "mutation_probability = [0.5, 0.01] # originally [0.4, 0.01]\n",
    "mutation_type = \"adaptive\" # random, swap, inversion, scramble, adaptive\n",
    "\n",
    "initial_population = Genes[0:71]\n",
    "\n",
    "# narrowed down options\n",
    "gene_space =  [\n",
    "              [\n",
    "              4,\n",
    "              12,\n",
    "              25, \n",
    "              27,\n",
    "              29,\n",
    "              30,\n",
    "              48              \n",
    "                ],\n",
    "              [ 4.438, 4.86, 5.7, 6.01, 6.41],\n",
    "              [ 4.438, 4.86, 5.7, 6.01, 6.41],\n",
    "              [ 4.438, 4.86, 5.7,\n",
    "                5.996,\n",
    "                  6.01, 6.41],\n",
    "              [ 3.54, 3.78, 3.85,  4.093],\n",
    "              [ 3.54, 3.78, 3.85,  4.093],\n",
    "              # [ 3.54, 3.78, 3.85,  4.093]\n",
    "              [2.278, 2.7, 3.54, 3.78, 3.85,  4.093, 4.25],\n",
    "              ]\n",
    "\n",
    "parent_selection_type = \"tournament\" #  \"sss\", \"rws\", \"tournament\", \"rank\", \"random\"\n",
    "K_tournament = 20 #12\n",
    "keep_parents = 5 # 4, 5\n",
    "keep_elitism = 5\n",
    "\n",
    "crossover_type = \"uniform\" # single_point, two_points, uniform, scattered\n",
    "crossover_probability = 0.7"
   ]
  },
  {
   "cell_type": "code",
   "execution_count": 132,
   "metadata": {},
   "outputs": [
    {
     "name": "stderr",
     "output_type": "stream",
     "text": [
      "c:\\Users\\pkrok\\anaconda3\\lib\\site-packages\\pygad\\pygad.py:932: UserWarning: Use the 'save_best_solutions' parameter with caution as it may cause memory overflow when either the number of generations or number of genes is large.\n",
      "  if not self.suppress_warnings: warnings.warn(\"Use the 'save_best_solutions' parameter with caution as it may cause memory overflow when either the number of generations or number of genes is large.\")\n",
      "c:\\Users\\pkrok\\anaconda3\\lib\\site-packages\\pygad\\pygad.py:940: UserWarning: Use the 'save_solutions' parameter with caution as it may cause memory overflow when either the number of generations, number of genes, or number of solutions in population is large.\n",
      "  if not self.suppress_warnings: warnings.warn(\"Use the 'save_solutions' parameter with caution as it may cause memory overflow when either the number of generations, number of genes, or number of solutions in population is large.\")\n"
     ]
    }
   ],
   "source": [
    "def on_generation(ga):\n",
    "    print(\"Generation\", ga.generations_completed)\n",
    "    print(ga.population)\n",
    "\n",
    "ga_instance = pygad.GA(num_generations=num_generations,\n",
    "                       num_parents_mating=num_parents_mating,\n",
    "                       fitness_func=fitness_function,\n",
    "                       initial_population = initial_population, \n",
    "                       parent_selection_type=parent_selection_type,\n",
    "                       # keep_parents=keep_parents,\n",
    "                       keep_elitism=keep_elitism,\n",
    "                       crossover_type=crossover_type,\n",
    "                       mutation_type=mutation_type, \n",
    "                       # mutation_num_genes = mutation_num_genes,\n",
    "                       gene_space = gene_space,\n",
    "                       # sol_per_pop = sol_per_pop,\n",
    "                       # num_genes = num_genes,\n",
    "                       crossover_probability = crossover_probability,\n",
    "                       mutation_probability = mutation_probability,\n",
    "                       K_tournament = K_tournament,\n",
    "                       allow_duplicate_genes=False,\n",
    "                       # stop_criteria = \"reach_100\",\n",
    "                       # stop_criteria=[\"reach_127.4\", \"saturate_160\"],\n",
    "                       save_solutions=True,\n",
    "                       random_seed=None,\n",
    "                    #    parallel_processing=[\"thread\", 20],\n",
    "                    #    parallel_processing=[\"process\", 8],\n",
    "                       # on_generation=on_generation,\n",
    "                       save_best_solutions=True\n",
    "                      )"
   ]
  },
  {
   "cell_type": "markdown",
   "metadata": {},
   "source": [
    "# Single run"
   ]
  },
  {
   "cell_type": "code",
   "execution_count": 133,
   "metadata": {},
   "outputs": [
    {
     "name": "stdout",
     "output_type": "stream",
     "text": [
      "Current date and time : \n",
      "2023-03-09 12:32:02\n"
     ]
    }
   ],
   "source": [
    "now = datetime.datetime.now()\n",
    "print (\"Current date and time : \")\n",
    "print (now.strftime(\"%Y-%m-%d %H:%M:%S\"))"
   ]
  },
  {
   "cell_type": "code",
   "execution_count": 134,
   "metadata": {},
   "outputs": [
    {
     "name": "stdout",
     "output_type": "stream",
     "text": [
      "--- 2.082524089018504 minutes ---\n"
     ]
    }
   ],
   "source": [
    "start_time = time.time()\n",
    "ga_instance.run()\n",
    "print(\"--- %s minutes ---\" % ((time.time() - start_time)/60))"
   ]
  },
  {
   "cell_type": "code",
   "execution_count": 135,
   "metadata": {},
   "outputs": [
    {
     "name": "stdout",
     "output_type": "stream",
     "text": [
      "Current date and time : \n",
      "2023-03-09 12:34:07\n"
     ]
    }
   ],
   "source": [
    "now = datetime.datetime.now()\n",
    "print (\"Current date and time : \")\n",
    "print (now.strftime(\"%Y-%m-%d %H:%M:%S\"))"
   ]
  },
  {
   "cell_type": "code",
   "execution_count": 136,
   "metadata": {},
   "outputs": [
    {
     "name": "stdout",
     "output_type": "stream",
     "text": [
      "Parameters of the best solution : [27.     4.438  6.01   4.86   3.78   4.093  3.54 ]\n",
      "Fitness value of the best solution = 2.999999999999998\n",
      "-12.871656\n",
      "-14.969914\n",
      "2.098258\n"
     ]
    }
   ],
   "source": [
    "solution, solution_fitness, solution_idx = ga_instance.best_solution()\n",
    "print(\"Parameters of the best solution : {solution}\".format(solution=solution))\n",
    "print(\"Fitness value of the best solution = {solution_fitness}\".format(solution_fitness=solution_fitness))\n",
    "\n",
    "diameter_c3h6 = np.array([4.03])\n",
    "diameter_c3h8 = np.array([4.16])\n",
    "mass_c3h6 = np.array([42.08])\n",
    "mass_c3h8 = np.array([44.1])\n",
    "ascF_c3h6 = np.array([0.142])\n",
    "ascF_c3h8 = np.array([0.152])\n",
    "kD_c3h6 = np.array([4.5])\n",
    "kD_c3h8 = np.array([4.3])\n",
    "\n",
    "solution2=np.array([\n",
    "                  MetalNum[solution[0]]['ionicRad'],\n",
    "                  MetalNum[solution[0]]['MetalMass'],\n",
    "                  linker_length1[solution[1]]['linker_mass1'],\n",
    "                  linker_length2[solution[2]]['linker_mass2'],\n",
    "                  linker_length3[solution[3]]['linker_mass3'],\n",
    "                  linker_length1[solution[1]]['σ'],\n",
    "                  linker_length1[solution[1]]['e'],\n",
    "                  func1_length[solution[4]]['func1_mass'],\n",
    "                  func2_length[solution[5]]['func2_mass'],\n",
    "                  func3_length[solution[6]]['func3_mass']])\n",
    "\n",
    "solution_c3h6=np.concatenate((diameter_c3h6,mass_c3h6, ascF_c3h6, kD_c3h6, solution,solution2), axis=0, out=None, dtype=None, casting=\"same_kind\")\n",
    "solution_c3h8=np.concatenate((diameter_c3h8,mass_c3h8, ascF_c3h8, kD_c3h8,solution,solution2), axis=0, out=None, dtype=None, casting=\"same_kind\")\n",
    "\n",
    "predictionc3h6 = model.predict([solution_c3h6])[0]\n",
    "predictionc3h8 = model.predict([solution_c3h8])[0]\n",
    "\n",
    "print(predictionc3h6)\n",
    "print(predictionc3h8)\n",
    "S= predictionc3h6 - predictionc3h8\n",
    "print(S)"
   ]
  },
  {
   "cell_type": "code",
   "execution_count": 139,
   "metadata": {},
   "outputs": [
    {
     "data": {
      "text/plain": [
       "array([27.   ,  4.438,  6.01 ,  4.86 ,  3.78 ,  4.093,  3.54 ])"
      ]
     },
     "execution_count": 139,
     "metadata": {},
     "output_type": "execute_result"
    }
   ],
   "source": [
    "solution"
   ]
  },
  {
   "cell_type": "code",
   "execution_count": 140,
   "metadata": {},
   "outputs": [
    {
     "data": {
      "text/plain": [
       "(201, 7)"
      ]
     },
     "execution_count": 140,
     "metadata": {},
     "output_type": "execute_result"
    }
   ],
   "source": [
    "dfSol=pd.DataFrame(data = ga_instance.best_solutions)\n",
    "dfSol.shape\n",
    "# dfSol"
   ]
  },
  {
   "cell_type": "code",
   "execution_count": 141,
   "metadata": {},
   "outputs": [
    {
     "data": {
      "text/html": [
       "<div>\n",
       "<style scoped>\n",
       "    .dataframe tbody tr th:only-of-type {\n",
       "        vertical-align: middle;\n",
       "    }\n",
       "\n",
       "    .dataframe tbody tr th {\n",
       "        vertical-align: top;\n",
       "    }\n",
       "\n",
       "    .dataframe thead th {\n",
       "        text-align: right;\n",
       "    }\n",
       "</style>\n",
       "<table border=\"1\" class=\"dataframe\">\n",
       "  <thead>\n",
       "    <tr style=\"text-align: right;\">\n",
       "      <th></th>\n",
       "      <th>0</th>\n",
       "      <th>1</th>\n",
       "      <th>2</th>\n",
       "      <th>3</th>\n",
       "      <th>4</th>\n",
       "      <th>5</th>\n",
       "      <th>6</th>\n",
       "    </tr>\n",
       "  </thead>\n",
       "  <tbody>\n",
       "    <tr>\n",
       "      <th>0</th>\n",
       "      <td>30.0</td>\n",
       "      <td>4.438</td>\n",
       "      <td>4.438</td>\n",
       "      <td>4.438</td>\n",
       "      <td>3.78</td>\n",
       "      <td>3.780</td>\n",
       "      <td>3.780</td>\n",
       "    </tr>\n",
       "    <tr>\n",
       "      <th>1</th>\n",
       "      <td>30.0</td>\n",
       "      <td>4.438</td>\n",
       "      <td>6.410</td>\n",
       "      <td>4.860</td>\n",
       "      <td>3.78</td>\n",
       "      <td>4.093</td>\n",
       "      <td>3.540</td>\n",
       "    </tr>\n",
       "    <tr>\n",
       "      <th>2</th>\n",
       "      <td>27.0</td>\n",
       "      <td>4.438</td>\n",
       "      <td>6.410</td>\n",
       "      <td>4.860</td>\n",
       "      <td>3.78</td>\n",
       "      <td>4.093</td>\n",
       "      <td>3.540</td>\n",
       "    </tr>\n",
       "    <tr>\n",
       "      <th>3</th>\n",
       "      <td>27.0</td>\n",
       "      <td>4.438</td>\n",
       "      <td>6.010</td>\n",
       "      <td>4.860</td>\n",
       "      <td>3.78</td>\n",
       "      <td>3.540</td>\n",
       "      <td>4.093</td>\n",
       "    </tr>\n",
       "    <tr>\n",
       "      <th>4</th>\n",
       "      <td>27.0</td>\n",
       "      <td>4.438</td>\n",
       "      <td>6.010</td>\n",
       "      <td>4.860</td>\n",
       "      <td>3.78</td>\n",
       "      <td>4.093</td>\n",
       "      <td>3.540</td>\n",
       "    </tr>\n",
       "  </tbody>\n",
       "</table>\n",
       "</div>"
      ],
      "text/plain": [
       "      0      1      2      3     4      5      6\n",
       "0  30.0  4.438  4.438  4.438  3.78  3.780  3.780\n",
       "1  30.0  4.438  6.410  4.860  3.78  4.093  3.540\n",
       "2  27.0  4.438  6.410  4.860  3.78  4.093  3.540\n",
       "3  27.0  4.438  6.010  4.860  3.78  3.540  4.093\n",
       "4  27.0  4.438  6.010  4.860  3.78  4.093  3.540"
      ]
     },
     "execution_count": 141,
     "metadata": {},
     "output_type": "execute_result"
    }
   ],
   "source": [
    "dfSol2=dfSol.drop_duplicates(keep='last')\n",
    "dfSol3 = dfSol2.reset_index()\n",
    "dfSol3 = dfSol3.drop(columns=['index'])\n",
    "dfSol3\n",
    "dfFiveBest = dfSol3\n",
    "dfFiveBest "
   ]
  },
  {
   "cell_type": "code",
   "execution_count": 142,
   "metadata": {},
   "outputs": [
    {
     "data": {
      "text/html": [
       "<div>\n",
       "<style scoped>\n",
       "    .dataframe tbody tr th:only-of-type {\n",
       "        vertical-align: middle;\n",
       "    }\n",
       "\n",
       "    .dataframe tbody tr th {\n",
       "        vertical-align: top;\n",
       "    }\n",
       "\n",
       "    .dataframe thead th {\n",
       "        text-align: right;\n",
       "    }\n",
       "</style>\n",
       "<table border=\"1\" class=\"dataframe\">\n",
       "  <thead>\n",
       "    <tr style=\"text-align: right;\">\n",
       "      <th></th>\n",
       "      <th>0</th>\n",
       "      <th>1</th>\n",
       "      <th>2</th>\n",
       "      <th>3</th>\n",
       "      <th>4</th>\n",
       "      <th>5</th>\n",
       "      <th>6</th>\n",
       "    </tr>\n",
       "  </thead>\n",
       "  <tbody>\n",
       "    <tr>\n",
       "      <th>2</th>\n",
       "      <td>27.0</td>\n",
       "      <td>4.438</td>\n",
       "      <td>6.41</td>\n",
       "      <td>4.86</td>\n",
       "      <td>3.78</td>\n",
       "      <td>4.093</td>\n",
       "      <td>3.540</td>\n",
       "    </tr>\n",
       "    <tr>\n",
       "      <th>3</th>\n",
       "      <td>27.0</td>\n",
       "      <td>4.438</td>\n",
       "      <td>6.01</td>\n",
       "      <td>4.86</td>\n",
       "      <td>3.78</td>\n",
       "      <td>3.540</td>\n",
       "      <td>4.093</td>\n",
       "    </tr>\n",
       "    <tr>\n",
       "      <th>4</th>\n",
       "      <td>27.0</td>\n",
       "      <td>4.438</td>\n",
       "      <td>6.01</td>\n",
       "      <td>4.86</td>\n",
       "      <td>3.78</td>\n",
       "      <td>4.093</td>\n",
       "      <td>3.540</td>\n",
       "    </tr>\n",
       "  </tbody>\n",
       "</table>\n",
       "</div>"
      ],
      "text/plain": [
       "      0      1     2     3     4      5      6\n",
       "2  27.0  4.438  6.41  4.86  3.78  4.093  3.540\n",
       "3  27.0  4.438  6.01  4.86  3.78  3.540  4.093\n",
       "4  27.0  4.438  6.01  4.86  3.78  4.093  3.540"
      ]
     },
     "execution_count": 142,
     "metadata": {},
     "output_type": "execute_result"
    }
   ],
   "source": [
    "dfFiveBest[(dfFiveBest[0] == 27)\n",
    "           & (dfFiveBest[1] == 4.438)\n",
    "          ]"
   ]
  },
  {
   "cell_type": "code",
   "execution_count": 143,
   "metadata": {},
   "outputs": [
    {
     "data": {
      "text/plain": [
       "0    30.000\n",
       "1     4.438\n",
       "2     4.438\n",
       "3     4.438\n",
       "4     3.780\n",
       "5     3.780\n",
       "6     3.780\n",
       "Name: 0, dtype: float64"
      ]
     },
     "execution_count": 143,
     "metadata": {},
     "output_type": "execute_result"
    }
   ],
   "source": [
    "dfFiveBest.loc[0]"
   ]
  },
  {
   "cell_type": "code",
   "execution_count": 151,
   "metadata": {},
   "outputs": [
    {
     "name": "stdout",
     "output_type": "stream",
     "text": [
      "-12.871656\n",
      "-14.969914\n",
      "2.098258\n"
     ]
    }
   ],
   "source": [
    "a=4\n",
    "\n",
    "diameter_c3h6 = np.array([4.03])\n",
    "diameter_c3h8 = np.array([4.16])\n",
    "mass_c3h6 = np.array([42.08])\n",
    "mass_c3h8 = np.array([44.1])\n",
    "ascF_c3h6 = np.array([0.142])\n",
    "ascF_c3h8 = np.array([0.152])\n",
    "kD_c3h6 = np.array([4.5])\n",
    "kD_c3h8 = np.array([4.3])\n",
    "\n",
    "solution2=np.array([\n",
    "                  MetalNum[dfFiveBest[0][a]]['ionicRad'],\n",
    "                  MetalNum[solution[0]]['MetalMass'],\n",
    "                  linker_length1[dfFiveBest[1][a]]['linker_mass1'],\n",
    "                  linker_length2[dfFiveBest[2][a]]['linker_mass2'],\n",
    "                  linker_length3[dfFiveBest[3][a]]['linker_mass3'],\n",
    "                  linker_length1[dfFiveBest[1][a]]['σ'],\n",
    "                  linker_length1[dfFiveBest[1][a]]['e'],\n",
    "                  func1_length[dfFiveBest[4][a]]['func1_mass'],\n",
    "                  func2_length[dfFiveBest[5][a]]['func2_mass'],\n",
    "                  func3_length[dfFiveBest[6][a]]['func3_mass']])\n",
    "\n",
    "solutionNew=np.array(dfFiveBest.loc[a])\n",
    "\n",
    "solution3=np.concatenate((solutionNew,solution2), axis=0, out=None, dtype=None, casting=\"same_kind\")\n",
    "\n",
    "solution_c3h6=np.concatenate((diameter_c3h6,mass_c3h6, ascF_c3h6, kD_c3h6,solution,solution2), axis=0, out=None, dtype=None, casting=\"same_kind\")\n",
    "solution_c3h8=np.concatenate((diameter_c3h8,mass_c3h8, ascF_c3h8, kD_c3h8,solution,solution2), axis=0, out=None, dtype=None, casting=\"same_kind\")\n",
    "\n",
    "predictionc3h6 = model.predict([solution_c3h6])[0]\n",
    "predictionc3h8 = model.predict([solution_c3h8])[0]\n",
    "\n",
    "print(predictionc3h6)\n",
    "print(predictionc3h8)\n",
    "Ratio = predictionc3h6 - predictionc3h8\n",
    "print(Ratio)"
   ]
  },
  {
   "cell_type": "code",
   "execution_count": 145,
   "metadata": {},
   "outputs": [
    {
     "name": "stdout",
     "output_type": "stream",
     "text": [
      "[7.400e+01 5.893e+01 8.100e+01 8.100e+01 8.100e+01 2.500e-01 6.270e-02\n",
      " 1.500e+01 1.500e+01 1.500e+01]\n",
      "[30.     4.438  4.438  4.438  3.78   3.78   3.78 ]\n"
     ]
    }
   ],
   "source": [
    "print(solution2)\n",
    "print(solutionNew)"
   ]
  },
  {
   "cell_type": "code",
   "execution_count": 146,
   "metadata": {},
   "outputs": [
    {
     "data": {
      "image/png": "[encoded data removed]",
      "text/plain": [
       "<Figure size 640x480 with 1 Axes>"
      ]
     },
     "metadata": {},
     "output_type": "display_data"
    },
    {
     "name": "stdout",
     "output_type": "stream",
     "text": [
      "Figure(640x480)\n"
     ]
    }
   ],
   "source": [
    "print(ga_instance.plot_new_solution_rate())"
   ]
  },
  {
   "cell_type": "code",
   "execution_count": 147,
   "metadata": {},
   "outputs": [
    {
     "data": {
      "image/png": "[encoded data removed]",
      "text/plain": [
       "<Figure size 640x480 with 1 Axes>"
      ]
     },
     "metadata": {},
     "output_type": "display_data"
    },
    {
     "name": "stdout",
     "output_type": "stream",
     "text": [
      "Figure(640x480)\n"
     ]
    }
   ],
   "source": [
    "print(ga_instance.plot_fitness(plot_type=\"plot\"))"
   ]
  },
  {
   "cell_type": "code",
   "execution_count": 148,
   "metadata": {},
   "outputs": [
    {
     "data": {
      "image/png": "[encoded data removed]",
      "text/plain": [
       "<Figure size 2500x800 with 8 Axes>"
      ]
     },
     "metadata": {},
     "output_type": "display_data"
    },
    {
     "name": "stdout",
     "output_type": "stream",
     "text": [
      "Figure(2500x800)\n"
     ]
    }
   ],
   "source": [
    "print(ga_instance.plot_genes(graph_type=\"plot\",\n",
    "                       plot_type=\"scatter\",\n",
    "                       solutions='all'))"
   ]
  },
  {
   "cell_type": "markdown",
   "metadata": {},
   "source": [
    "# Make a dataframe with all the best solutions in terms of logD and selectivity (ratio)"
   ]
  },
  {
   "cell_type": "code",
   "execution_count": 152,
   "metadata": {},
   "outputs": [
    {
     "name": "stdout",
     "output_type": "stream",
     "text": [
      "-11.979922\n",
      "-12.929291\n"
     ]
    }
   ],
   "source": [
    "BestZIFfromGA = pd.DataFrame(columns = ['number', 'logD',\n",
    "        'Ratio'])\n",
    "\n",
    "diameter_c3h6 = np.array([4.03])\n",
    "diameter_c3h8 = np.array([4.16])\n",
    "mass_c3h6 = np.array([42.08])\n",
    "mass_c3h8 = np.array([44.1])\n",
    "ascF_c3h6 = np.array([0.142])\n",
    "ascF_c3h8 = np.array([0.152])\n",
    "kD_c3h6 = np.array([4.5])\n",
    "kD_c3h8 = np.array([4.3])\n",
    "\n",
    "for a in range(0,len(dfFiveBest)):\n",
    "    solution2=np.array([\n",
    "                  MetalNum[dfFiveBest[0][a]]['ionicRad'],\n",
    "                  linker_length1[dfFiveBest[1][a]]['linker_mass1'],\n",
    "                  linker_length2[dfFiveBest[2][a]]['linker_mass2'],\n",
    "                  linker_length3[dfFiveBest[3][a]]['linker_mass3'],\n",
    "                  linker_length1[dfFiveBest[1][a]]['σ'],\n",
    "                  linker_length1[dfFiveBest[1][a]]['e'],\n",
    "                  func1_length[dfFiveBest[4][a]]['func1_mass'],\n",
    "                  func2_length[dfFiveBest[5][a]]['func2_mass'],\n",
    "                  func3_length[dfFiveBest[6][a]]['func3_mass']])\n",
    "\n",
    "    solutionNew=np.array(dfFiveBest.loc[a])\n",
    "    solution3=np.concatenate((solutionNew,solution2), axis=0, out=None, dtype=None, casting=\"same_kind\")\n",
    "    \n",
    "    solution_c3h6=np.concatenate((diameter_c3h6,mass_c3h6, ascF_c3h6, kD_c3h6,solutionNew,solution2), axis=0, out=None, dtype=None, casting=\"same_kind\")\n",
    "    solution_c3h8=np.concatenate((diameter_c3h8,mass_c3h8, ascF_c3h8, kD_c3h8,solutionNew,solution2), axis=0, out=None, dtype=None, casting=\"same_kind\")\n",
    "\n",
    "    predictionc3h6 = model.predict([solution_c3h6])[0]\n",
    "    predictionc3h8 = model.predict([solution_c3h8])[0]\n",
    "    \n",
    "    BestZIFfromGA.loc[a, ['number']] = a\n",
    "    BestZIFfromGA.loc[a, ['logD']] = predictionc3h6\n",
    "    BestZIFfromGA.loc[a, ['Ratio']] =predictionc3h6 -predictionc3h8 \n",
    "    \n",
    "print(predictionc3h6)\n",
    "print(predictionc3h8)"
   ]
  },
  {
   "cell_type": "markdown",
   "metadata": {},
   "source": [
    "# Plot the best solutions, along with the target value (logD vs Ratio)"
   ]
  },
  {
   "cell_type": "code",
   "execution_count": 155,
   "metadata": {},
   "outputs": [
    {
     "data": {
      "image/png": "[encoded data removed]",
      "text/plain": [
       "<Figure size 1000x1000 with 1 Axes>"
      ]
     },
     "metadata": {},
     "output_type": "display_data"
    },
    {
     "name": "stdout",
     "output_type": "stream",
     "text": [
      "--- 0.0 seconds ---\n"
     ]
    }
   ],
   "source": [
    "plt.plot(BestZIFfromGA['logD'], BestZIFfromGA['Ratio'], 's', label='GA ZIFs', c='b', markersize='18', linewidth=4, markeredgecolor='k')\n",
    "# plt.plot(-11.5, 1.7, 'o', label='Target value', c='g', markersize='18', linewidth=4, markeredgecolor='k')\n",
    "\n",
    "# plt.title ('$CO_{2}$/$CH_{4}$',fontsize=25)\n",
    "plt.xlabel('log$D_{C3H6}$', fontsize=20)\n",
    "plt.ylabel('selectivity (log($D_{C3H6}$ / $D_{C3H8}$)',fontsize=20)\n",
    "plt.legend(loc='lower right', fontsize=20)\n",
    "\n",
    "\n",
    "# plt.ylim(2, 4.5)\n",
    "# plt.xlim(-10, -9)\n",
    "\n",
    "plt.tick_params(which='both', width=3)\n",
    "plt.tick_params(which='major', length=10)\n",
    "# plt.tick_params(which='major', length=4, color='m')\n",
    "# plt.tick_params(which='minor', length=4, color='m')\n",
    "plt.rcParams[\"figure.figsize\"] = (10,10)\n",
    "# plt.xscale('log')\n",
    "# plt.yscale('log')\n",
    "plt.gca().xaxis.set_major_formatter(StrMethodFormatter('{x:,.1f}'))\n",
    "\n",
    "plt.yticks(fontsize=20)\n",
    "plt.xticks(fontsize=20)\n",
    "\n",
    "# plt.savefig('CO2_CH4_Maxwell.png', bbox_inches='tight', dpi=300, transparent=True)\n",
    "plt.savefig('performance_c3h6_c3h8.png', bbox_inches='tight', dpi=300, transparent=True)\n",
    "plt.show()\n",
    "\n",
    "start_time = time.time()\n",
    "print(\"--- %s seconds ---\" % (time.time() - start_time))"
   ]
  },
  {
   "cell_type": "code",
   "execution_count": 154,
   "metadata": {},
   "outputs": [
    {
     "ename": "NameError",
     "evalue": "name 'FiveBest' is not defined",
     "output_type": "error",
     "traceback": [
      "\u001b[1;31m---------------------------------------------------------------------------\u001b[0m",
      "\u001b[1;31mNameError\u001b[0m                                 Traceback (most recent call last)",
      "\u001b[1;32m~\\AppData\\Local\\Temp\\ipykernel_33980\\3890112728.py\u001b[0m in \u001b[0;36m<cell line: 4>\u001b[1;34m()\u001b[0m\n\u001b[0;32m      2\u001b[0m \u001b[1;31m# dfSol4 = dfSol4.drop(columns=['index'])\u001b[0m\u001b[1;33m\u001b[0m\u001b[1;33m\u001b[0m\u001b[1;33m\u001b[0m\u001b[0m\n\u001b[0;32m      3\u001b[0m \u001b[0msolutions\u001b[0m \u001b[1;33m=\u001b[0m \u001b[0mnp\u001b[0m\u001b[1;33m.\u001b[0m\u001b[0masanyarray\u001b[0m\u001b[1;33m(\u001b[0m\u001b[0mdfSol4\u001b[0m\u001b[1;33m)\u001b[0m\u001b[1;33m\u001b[0m\u001b[1;33m\u001b[0m\u001b[0m\n\u001b[1;32m----> 4\u001b[1;33m \u001b[0mFiveBest\u001b[0m\u001b[1;33m.\u001b[0m\u001b[0mextend\u001b[0m\u001b[1;33m(\u001b[0m\u001b[0msolutions\u001b[0m\u001b[1;33m)\u001b[0m\u001b[1;33m\u001b[0m\u001b[1;33m\u001b[0m\u001b[0m\n\u001b[0m\u001b[0;32m      5\u001b[0m \u001b[0mFiveBest\u001b[0m\u001b[1;33m\u001b[0m\u001b[1;33m\u001b[0m\u001b[0m\n\u001b[0;32m      6\u001b[0m \u001b[0mdfFiveBest\u001b[0m\u001b[1;33m=\u001b[0m\u001b[0mpd\u001b[0m\u001b[1;33m.\u001b[0m\u001b[0mDataFrame\u001b[0m\u001b[1;33m(\u001b[0m\u001b[0mdata\u001b[0m \u001b[1;33m=\u001b[0m \u001b[0mFiveBest\u001b[0m\u001b[1;33m)\u001b[0m\u001b[1;33m\u001b[0m\u001b[1;33m\u001b[0m\u001b[0m\n",
      "\u001b[1;31mNameError\u001b[0m: name 'FiveBest' is not defined"
     ]
    }
   ],
   "source": [
    "dfSol4 = dfSol3.tail(50)\n",
    "# dfSol4 = dfSol4.drop(columns=['index'])\n",
    "solutions = np.asanyarray(dfSol4)\n",
    "FiveBest.extend(solutions)\n",
    "FiveBest\n",
    "dfFiveBest=pd.DataFrame(data = FiveBest)\n",
    "dfFiveBest"
   ]
  },
  {
   "cell_type": "markdown",
   "metadata": {},
   "source": [
    "# Loop for GA"
   ]
  },
  {
   "cell_type": "code",
   "execution_count": null,
   "metadata": {},
   "outputs": [],
   "source": [
    "FiveBest = list()\n",
    "Duration = list()\n",
    "Rounds = 8\n",
    "LoopTime = 0\n",
    "Totaltime = 0\n",
    "\n",
    "for i in range(Rounds):\n",
    "    start_time = time.time()\n",
    "    ga_instance.run()\n",
    "    \n",
    "    # solution, solution_fitness, solution_idx = ga_instance.best_solution()\n",
    "    # prediction = XRegr.predict([solution])[0]\n",
    "    Sol=pd.DataFrame(data = ga_instance.best_solutions)\n",
    "    Sol2=Sol.drop_duplicates(keep='last')\n",
    "    Sol3 = Sol2.reset_index()\n",
    "    # Sol4 = Sol3.tail(20)\n",
    "    Sol3 = Sol3.drop(columns=['index'])\n",
    "    # Sol4 = Sol3.tail(20)\n",
    "    solutions = np.asanyarray(Sol3)\n",
    "    FiveBest.extend(solutions)\n",
    "    LoopTime = (time.time() - start_time)/60\n",
    "    Totaltime = Totaltime+(time.time() - start_time)/60\n",
    "    AverLooptime = Totaltime/Rounds\n",
    "    print(LoopTime)\n",
    "    \n",
    "print(AverLooptime)"
   ]
  },
  {
   "cell_type": "code",
   "execution_count": null,
   "metadata": {},
   "outputs": [],
   "source": [
    "dfFiveBest=pd.DataFrame(data = FiveBest)\n",
    "# dfFiveBest.loc[29]\n",
    "# dfFiveBest.loc[41]\n",
    "dfFiveBest\n"
   ]
  },
  {
   "cell_type": "code",
   "execution_count": null,
   "metadata": {},
   "outputs": [],
   "source": [
    "# TheData = dfFiveBest\n",
    "# TheData.rename(columns={\"0\": \"metal\", \"1\": \"link1\", \"2\": \"link2\", \"3\": \"link3\", \"4\": \"func1\", \"5\": \"func2\", \"6\": \"func3\"})\n",
    "# TheData.columns = [\"metal\", \"link1\", \"link2\", \"link3\", \"func1\", \"func2\", \"func3\"]\n",
    "# TheData\n",
    "# dfFiveBest[(dfFiveBest[0] == 48.) & (dfFiveBest[1] == 4.438) & (dfFiveBest[2] == 4.438) & (dfFiveBest[6] == 4.25) ]\n",
    "dfFiveBest[(dfFiveBest[0] == 27.) & (dfFiveBest[3] == 4.438) \n",
    "           & (dfFiveBest[2] == 4.438)\n",
    "          ]\n",
    "# dfFiveBest[(dfFiveBest[0] == 4.)  ]\n",
    "# dfFiveBest[(dfFiveBest[0] == 29.) & (dfFiveBest[1] == 4.438) & (dfFiveBest[2] == 4.438) ]"
   ]
  },
  {
   "cell_type": "markdown",
   "metadata": {},
   "source": [
    "# RTree"
   ]
  },
  {
   "cell_type": "markdown",
   "metadata": {},
   "source": [
    "## create dataframe with ratios"
   ]
  },
  {
   "cell_type": "code",
   "execution_count": null,
   "metadata": {},
   "outputs": [],
   "source": [
    "dfRatios = pd.DataFrame(columns = ['type', 'MetalNum', 'ratio', 'linker_length1', 'linker_length2', 'linker_length3',\n",
    "        'func1_length', 'func2_length','func3_length', 'logD_c3h6', 'logD_c3h8'])"
   ]
  },
  {
   "cell_type": "code",
   "execution_count": null,
   "metadata": {},
   "outputs": [],
   "source": [
    "df3 = df2[df2.gas != 'iso-butane']\n",
    "df3 = df3[df3.gas != 'isobutane']\n",
    "df3 = df3[df3.gas != 'ethane']\n",
    "df3 = df3[df3.gas != 'ethylene']\n",
    "df3 = df3[df3.gas != 'He']\n",
    "df3 = df3[df3.gas != 'H2']\n",
    "df3 = df3[df3.gas != 'butane']\n",
    "# df3 = df3[df3.gas != 'propylene']\n",
    "# df3 = df3[df3.gas != 'propane']\n",
    "\n",
    "df2 = df2[df2.gas != 'O2']\n",
    "df2 = df2[df2.gas != 'N2']\n",
    "df3 = df3[df3.gas != 'CH4']\n",
    "df3 = df3[df3.gas != 'CO2']"
   ]
  },
  {
   "cell_type": "code",
   "execution_count": null,
   "metadata": {},
   "outputs": [],
   "source": [
    "df3 = df3.dropna()\n",
    "df3=df3.reset_index(drop=True)\n",
    "df3"
   ]
  },
  {
   "cell_type": "code",
   "execution_count": null,
   "metadata": {},
   "outputs": [],
   "source": [
    "k = 0\n",
    "\n",
    "for i in range(1, len(df3)):\n",
    "    if df3.loc[i-1, 'type'] == df3.loc[i, 'type'] and df3.loc[i-1, 'gas'] == 'propylene':\n",
    "        dfRatios.loc[k, 'ratio'] = df3.loc[i-1, 'logD']-df3.loc[i, 'logD']\n",
    "        dfRatios.loc[k, 'type'] = df3.loc[i-1, 'type']\n",
    "        dfRatios.loc[k, 'logD_c3h6'] = df3.loc[i-1, 'logD']\n",
    "        dfRatios.loc[k, 'logD_c3h8'] = df3.loc[i, 'logD']\n",
    "        dfRatios.loc[k, ['MetalNum']] =  df3.loc[i-1, ['MetalNum']]\n",
    "        dfRatios.loc[k, ['linker_length1']] =  df3.loc[i-1, ['linker_length1']]\n",
    "        dfRatios.loc[k, ['linker_length2']] =  df3.loc[i-1, ['linker_length2']]\n",
    "        dfRatios.loc[k, ['linker_length3']] =  df3.loc[i-1, ['linker_length3']]\n",
    "        dfRatios.loc[k, ['func1_length']] =  df3.loc[i-1, ['func1_length']]\n",
    "        dfRatios.loc[k, ['func2_length']] =  df3.loc[i-1, ['func2_length']]\n",
    "        dfRatios.loc[k, ['func3_length']] =  df3.loc[i-1, ['func3_length']]\n",
    "        k=k+1\n",
    "\n",
    "            \n",
    "#         else:\n",
    "#             dfMetal.loc[k , 'metals'] = str('no')\n",
    "dfRatios.shape"
   ]
  },
  {
   "cell_type": "code",
   "execution_count": null,
   "metadata": {},
   "outputs": [],
   "source": [
    "dfRatios=dfRatios.reset_index(drop=True)\n",
    "dfRatios.head(5)"
   ]
  },
  {
   "cell_type": "code",
   "execution_count": null,
   "metadata": {},
   "outputs": [],
   "source": [
    "df4=dfRatios[[ 'MetalNum',\n",
    "        'linker_length1', 'linker_length2', 'linker_length3',\n",
    "        'func1_length' , 'func2_length', 'func3_length']]"
   ]
  },
  {
   "cell_type": "code",
   "execution_count": null,
   "metadata": {},
   "outputs": [],
   "source": [
    "def pointToRectangle(pointTuple):\n",
    "    tmpList = []\n",
    "    for x in pointTuple:\n",
    "        tmpList.append(x)\n",
    "        tmpList.append(x)\n",
    "    return tuple(tmpList)"
   ]
  },
  {
   "cell_type": "code",
   "execution_count": null,
   "metadata": {},
   "outputs": [],
   "source": [
    "p = index.Property()\n",
    "p.dimension = 7\n",
    "myidx = index.Index(properties=p, interleaved=False)"
   ]
  },
  {
   "cell_type": "code",
   "execution_count": null,
   "metadata": {},
   "outputs": [],
   "source": [
    "myPoints = dict()\n",
    "\n",
    "for i in range(0, len(df4)):\n",
    "    myPoints[i] = df4.loc[i]"
   ]
  },
  {
   "cell_type": "code",
   "execution_count": null,
   "metadata": {},
   "outputs": [],
   "source": [
    "p.dimension = 7\n",
    "myidx = index.Index(properties=p, interleaved=False)\n",
    "\n",
    "for idx in myPoints:\n",
    "    myidx.insert(idx, pointToRectangle(myPoints[idx]))"
   ]
  },
  {
   "cell_type": "markdown",
   "metadata": {},
   "source": [
    "## Do Rtree for the best from inverse design"
   ]
  },
  {
   "cell_type": "code",
   "execution_count": null,
   "metadata": {},
   "outputs": [],
   "source": [
    "listofBest = list()\n",
    "\n",
    "for i in range(0, len(dfFiveBest)):\n",
    "# for i in range(1, len(dfSol3)):\n",
    "    nearestNeighbour = list(myidx.nearest(pointToRectangle((dfFiveBest.loc[i]))))\n",
    "    # nearestNeighbour = list(myidx.nearest(pointToRectangle((dfSol3.loc[i]))))\n",
    "    listofBest.extend(nearestNeighbour)"
   ]
  },
  {
   "cell_type": "code",
   "execution_count": null,
   "metadata": {},
   "outputs": [],
   "source": [
    "list(myidx.nearest(pointToRectangle((dfFiveBest.loc[3]))))\n",
    "# listofBest"
   ]
  },
  {
   "cell_type": "markdown",
   "metadata": {},
   "source": [
    "## Tabulate the best SmartDeZIgn ZIFs from the RTree procedure "
   ]
  },
  {
   "cell_type": "code",
   "execution_count": null,
   "metadata": {},
   "outputs": [],
   "source": [
    "MyBestZIF = pd.DataFrame(columns = ['type', 'MetalNum',\n",
    "        'linker_length1', 'linker_length2','linker_length3',\n",
    "        'func1_length', 'func2_length','func3_length', 'logD_c3h6', 'logD_c3h8', 'ratio'])\n",
    "\n",
    "NotGoodZIF = pd.DataFrame(columns = ['type', 'MetalNum',\n",
    "        'linker_length1', 'linker_length2','linker_length3',\n",
    "        'func1_length', 'func2_length','func3_length', 'logD_c3h6', 'logD_c3h8','ratio'])\n",
    "\n",
    "for i in range(0, len(listofBest)):\n",
    "    j = listofBest[i]\n",
    "    if ((1. <= dfRatios.loc[j, 'ratio'] <= 2.2) and (-13.4 <= dfRatios.loc[j, 'logD_c3h6'] <= -10.9)):\n",
    "    # if 3.9 <= dfRatios.loc[j, 'ratio'] <= 4.4:\n",
    "    # if df2.loc[i, 'logD'] >= -14 and df2.loc[i, 'logD'] <= -10:\n",
    "        MyBestZIF.loc[i, ['type']] =  dfRatios.loc[j, ['type']]\n",
    "        MyBestZIF.loc[i, ['MetalNum']] =  dfRatios.loc[j, ['MetalNum']]\n",
    "        MyBestZIF.loc[i, ['linker_length1']] =  dfRatios.loc[j, ['linker_length1']]\n",
    "        MyBestZIF.loc[i, ['linker_length2']] =  dfRatios.loc[j, ['linker_length2']]\n",
    "        MyBestZIF.loc[i, ['linker_length3']] =  dfRatios.loc[j, ['linker_length3']]\n",
    "        MyBestZIF.loc[i, ['func1_length']] =  dfRatios.loc[j, ['func1_length']]\n",
    "        MyBestZIF.loc[i, ['func2_length']] =  dfRatios.loc[j, ['func2_length']]\n",
    "        MyBestZIF.loc[i, ['func3_length']] =  dfRatios.loc[j, ['func3_length']]\n",
    "        MyBestZIF.loc[i, ['logD_c3h6']] =  dfRatios.loc[j, ['logD_c3h6']]\n",
    "        MyBestZIF.loc[i, ['logD_c3h8']] =  dfRatios.loc[j, ['logD_c3h8']]\n",
    "        MyBestZIF.loc[i, ['ratio']] =  dfRatios.loc[j, ['ratio']]\n",
    "    else:\n",
    "        NotGoodZIF.loc[i, ['type']] =  dfRatios.loc[j, ['type']]\n",
    "        NotGoodZIF.loc[i, ['MetalNum']] =  dfRatios.loc[j, ['MetalNum']]\n",
    "        NotGoodZIF.loc[i, ['linker_length1']] =  dfRatios.loc[j, ['linker_length1']]\n",
    "        NotGoodZIF.loc[i, ['linker_length2']] =  dfRatios.loc[j, ['linker_length2']]\n",
    "        NotGoodZIF.loc[i, ['linker_length3']] =  dfRatios.loc[j, ['linker_length3']]\n",
    "        NotGoodZIF.loc[i, ['func1_length']] =  dfRatios.loc[j, ['func1_length']]\n",
    "        NotGoodZIF.loc[i, ['func2_length']] =  dfRatios.loc[j, ['func2_length']]\n",
    "        NotGoodZIF.loc[i, ['func3_length']] =  dfRatios.loc[j, ['func3_length']]\n",
    "        NotGoodZIF.loc[i, ['logD_c3h6']] =  dfRatios.loc[j, ['logD_c3h6']]\n",
    "        NotGoodZIF.loc[i, ['logD_c3h8']] =  dfRatios.loc[j, ['logD_c3h8']]\n",
    "        NotGoodZIF.loc[i, ['ratio']] =  dfRatios.loc[j, ['ratio']]"
   ]
  },
  {
   "cell_type": "code",
   "execution_count": null,
   "metadata": {},
   "outputs": [],
   "source": [
    "MyBestZIF.sort_values(by=['ratio'], ascending=True)"
   ]
  },
  {
   "cell_type": "code",
   "execution_count": null,
   "metadata": {},
   "outputs": [],
   "source": [
    "MyBestZIF.groupby('type').count().sort_values(by=['ratio'], ascending=False)"
   ]
  },
  {
   "cell_type": "code",
   "execution_count": null,
   "metadata": {},
   "outputs": [],
   "source": [
    "NotGoodZIF"
   ]
  },
  {
   "cell_type": "code",
   "execution_count": null,
   "metadata": {},
   "outputs": [],
   "source": [
    "list(myidx.nearest(pointToRectangle((dfFiveBest.loc[1]))))"
   ]
  },
  {
   "cell_type": "code",
   "execution_count": null,
   "metadata": {},
   "outputs": [],
   "source": [
    "dfRatios.loc[53]"
   ]
  },
  {
   "cell_type": "code",
   "execution_count": null,
   "metadata": {},
   "outputs": [],
   "source": []
  },
  {
   "cell_type": "code",
   "execution_count": null,
   "metadata": {},
   "outputs": [],
   "source": [
    "\n"
   ]
  },
  {
   "cell_type": "code",
   "execution_count": null,
   "metadata": {},
   "outputs": [],
   "source": [
    "MyBestZIF2=MyBestZIF.drop_duplicates().reset_index()"
   ]
  },
  {
   "cell_type": "code",
   "execution_count": null,
   "metadata": {},
   "outputs": [],
   "source": [
    "MyBestZIF2 = MyBestZIF2.drop(columns=['index', 'logD_c3h6', 'logD_c3h8','ratio', 'type'])\n",
    "MyBestZIF2"
   ]
  },
  {
   "cell_type": "code",
   "execution_count": null,
   "metadata": {},
   "outputs": [],
   "source": [
    "p = index.Property()\n",
    "p.dimension = 7\n",
    "myidx2 = index.Index(properties=p, interleaved=False)"
   ]
  },
  {
   "cell_type": "code",
   "execution_count": null,
   "metadata": {},
   "outputs": [],
   "source": [
    "myPoints2 = dict()\n",
    "\n",
    "for i in range(0, len(dfFiveBest)):\n",
    "    myPoints2[i] = dfFiveBest.loc[i]"
   ]
  },
  {
   "cell_type": "code",
   "execution_count": null,
   "metadata": {},
   "outputs": [],
   "source": [
    "p.dimension = 7\n",
    "myidx2 = index.Index(properties=p, interleaved=False)\n",
    "\n",
    "for idx in myPoints2:\n",
    "    myidx2.insert(idx, pointToRectangle(myPoints2[idx]))"
   ]
  },
  {
   "cell_type": "code",
   "execution_count": null,
   "metadata": {},
   "outputs": [],
   "source": [
    "listofBest2 = list()\n",
    "\n",
    "for i in range(0, len(MyBestZIF2)):\n",
    "# for i in range(1, len(dfSol3)):\n",
    "    nearestNeighbour2 = list(myidx2.nearest(pointToRectangle((MyBestZIF2.loc[i]))))\n",
    "    # nearestNeighbour = list(myidx.nearest(pointToRectangle((dfSol3.loc[i]))))\n",
    "    listofBest2.extend(nearestNeighbour2)"
   ]
  },
  {
   "cell_type": "code",
   "execution_count": null,
   "metadata": {},
   "outputs": [],
   "source": [
    "# list(myidx2.nearest(pointToRectangle((MyBestZIF2.loc[0]))))\n",
    "listofBest2"
   ]
  },
  {
   "cell_type": "code",
   "execution_count": null,
   "metadata": {},
   "outputs": [],
   "source": [
    "dfFiveBest.loc[13]"
   ]
  },
  {
   "cell_type": "code",
   "execution_count": null,
   "metadata": {},
   "outputs": [],
   "source": [
    "list(myidx.nearest(pointToRectangle((dfFiveBest.loc[2]))))"
   ]
  },
  {
   "cell_type": "code",
   "execution_count": null,
   "metadata": {},
   "outputs": [],
   "source": [
    "dfRatios.loc[57]"
   ]
  },
  {
   "cell_type": "code",
   "execution_count": null,
   "metadata": {},
   "outputs": [],
   "source": [
    "48.0\t4.438\t4.438\t5.996\t3.78\t4.093\t4.25"
   ]
  },
  {
   "cell_type": "code",
   "execution_count": null,
   "metadata": {},
   "outputs": [],
   "source": [
    "list(myidx.nearest(pointToRectangle((dfFiveBest.loc[1]))))"
   ]
  },
  {
   "cell_type": "code",
   "execution_count": null,
   "metadata": {},
   "outputs": [],
   "source": [
    "list(myidx.nearest(pointToRectangle((48, 4.438, 4.438, 5.996, 3.78, 3.78, 4.25))))"
   ]
  },
  {
   "cell_type": "code",
   "execution_count": null,
   "metadata": {},
   "outputs": [],
   "source": [
    "dfRatios.loc[28]"
   ]
  },
  {
   "cell_type": "markdown",
   "metadata": {},
   "source": [
    "# Remove Cd-I-ZIF-7-8 to check to which else looks like through RTree"
   ]
  },
  {
   "cell_type": "code",
   "execution_count": null,
   "metadata": {},
   "outputs": [],
   "source": [
    "df3 = df3.dropna()\n",
    "df3=df3.reset_index(drop=True)\n",
    "df3"
   ]
  },
  {
   "cell_type": "code",
   "execution_count": null,
   "metadata": {},
   "outputs": [],
   "source": [
    "df3[(df3['type'] == 'Cd-I-ZIF-7-8')]"
   ]
  },
  {
   "cell_type": "code",
   "execution_count": null,
   "metadata": {},
   "outputs": [],
   "source": [
    "dfnew = df3.drop([df3.index[59],df3.index[60]])\n",
    "dfnew=dfnew.reset_index(drop=True)\n",
    "dfnew"
   ]
  },
  {
   "cell_type": "code",
   "execution_count": null,
   "metadata": {},
   "outputs": [],
   "source": [
    "for i in range(1, len(dfnew)):\n",
    "    if dfnew.loc[i-1, 'type'] == dfnew.loc[i, 'type'] and dfnew.loc[i-1, 'gas'] == 'O2':\n",
    "        dfRatios.loc[k, 'ratio'] = dfnew.loc[i-1, 'logD']-dfnew.loc[i, 'logD']\n",
    "        dfRatios.loc[k, 'type'] = dfnew.loc[i-1, 'type']\n",
    "        dfRatios.loc[k, 'logD_o2'] = dfnew.loc[i-1, 'logD']\n",
    "        dfRatios.loc[k, 'logD_n2'] = dfnew.loc[i, 'logD']\n",
    "        dfRatios.loc[k, ['MetalNum']] =  dfnew.loc[i-1, ['MetalNum']]\n",
    "        dfRatios.loc[k, ['linker_length1']] =  dfnew.loc[i-1, ['linker_length1']]\n",
    "        dfRatios.loc[k, ['linker_length2']] =  dfnew.loc[i-1, ['linker_length2']]\n",
    "        dfRatios.loc[k, ['linker_length3']] =  dfnew.loc[i-1, ['linker_length3']]\n",
    "        dfRatios.loc[k, ['func1_length']] =  dfnew.loc[i-1, ['func1_length']]\n",
    "        dfRatios.loc[k, ['func2_length']] =  dfnew.loc[i-1, ['func2_length']]\n",
    "        dfRatios.loc[k, ['func3_length']] =  dfnew.loc[i-1, ['func3_length']]\n",
    "        k=k+1\n",
    "\n",
    "            \n",
    "#         else:\n",
    "#             dfMetal.loc[k , 'metals'] = str('no')\n",
    "dfRatios.shape"
   ]
  },
  {
   "cell_type": "code",
   "execution_count": null,
   "metadata": {},
   "outputs": [],
   "source": [
    "dfRatios=dfRatios.reset_index(drop=True)\n",
    "dfRatios.head(5)"
   ]
  },
  {
   "cell_type": "code",
   "execution_count": null,
   "metadata": {},
   "outputs": [],
   "source": [
    "df4=dfRatios[[ 'MetalNum',\n",
    "        'linker_length1', 'linker_length2', 'linker_length3',\n",
    "        'func1_length' , 'func2_length', 'func3_length']]"
   ]
  },
  {
   "cell_type": "code",
   "execution_count": null,
   "metadata": {},
   "outputs": [],
   "source": []
  },
  {
   "cell_type": "code",
   "execution_count": null,
   "metadata": {},
   "outputs": [],
   "source": [
    "def pointToRectangle(pointTuple):\n",
    "    tmpList = []\n",
    "    for x in pointTuple:\n",
    "        tmpList.append(x)\n",
    "        tmpList.append(x)\n",
    "    return tuple(tmpList)"
   ]
  },
  {
   "cell_type": "code",
   "execution_count": null,
   "metadata": {},
   "outputs": [],
   "source": [
    "p = index.Property()\n",
    "p.dimension = 7\n",
    "myidx = index.Index(properties=p, interleaved=False)"
   ]
  },
  {
   "cell_type": "code",
   "execution_count": null,
   "metadata": {},
   "outputs": [],
   "source": [
    "myPoints = dict()\n",
    "\n",
    "for i in range(0, len(df4)):\n",
    "    myPoints[i] = df4.loc[i]"
   ]
  },
  {
   "cell_type": "code",
   "execution_count": null,
   "metadata": {},
   "outputs": [],
   "source": [
    "p.dimension = 7\n",
    "myidx = index.Index(properties=p, interleaved=False)\n",
    "\n",
    "for idx in myPoints:\n",
    "    myidx.insert(idx, pointToRectangle(myPoints[idx]))"
   ]
  },
  {
   "cell_type": "code",
   "execution_count": null,
   "metadata": {},
   "outputs": [],
   "source": []
  },
  {
   "cell_type": "markdown",
   "metadata": {},
   "source": [
    "## Do Rtree for the best from inverse design"
   ]
  },
  {
   "cell_type": "code",
   "execution_count": null,
   "metadata": {},
   "outputs": [],
   "source": [
    "listofBest = list()\n",
    "\n",
    "for i in range(0, len(dfFiveBest)):\n",
    "# for i in range(1, len(dfSol3)):\n",
    "    nearestNeighbour = list(myidx.nearest(pointToRectangle((dfFiveBest.loc[i]))))\n",
    "    # nearestNeighbour = list(myidx.nearest(pointToRectangle((dfSol3.loc[i]))))\n",
    "    listofBest.extend(nearestNeighbour)"
   ]
  },
  {
   "cell_type": "code",
   "execution_count": null,
   "metadata": {},
   "outputs": [],
   "source": [
    "list(myidx.nearest(pointToRectangle((dfFiveBest.loc[3]))))\n",
    "# listofBest"
   ]
  },
  {
   "cell_type": "markdown",
   "metadata": {},
   "source": [
    "## Tabulate the best SmartDeZIgn ZIFs from the RTree procedure "
   ]
  },
  {
   "cell_type": "code",
   "execution_count": null,
   "metadata": {},
   "outputs": [],
   "source": [
    "MyBestZIF = pd.DataFrame(columns = ['type', 'MetalNum',\n",
    "        'linker_length1', 'linker_length2','linker_length3',\n",
    "        'func1_length', 'func2_length','func3_length', 'logD_o2', 'logD_n2', 'ratio'])\n",
    "\n",
    "NotGoodZIF = pd.DataFrame(columns = ['type', 'MetalNum',\n",
    "        'linker_length1', 'linker_length2','linker_length3',\n",
    "        'func1_length', 'func2_length','func3_length', 'logD_o2', 'logD_n2','ratio'])\n",
    "\n",
    "for i in range(0, len(listofBest)):\n",
    "    j = listofBest[i]\n",
    "    if ((1.2 <= dfRatios.loc[j, 'ratio'] <= 1.8) and (-13.8 <= dfRatios.loc[j, 'logD_o2'] <= -12)):\n",
    "    # if 3.9 <= dfRatios.loc[j, 'ratio'] <= 4.4:\n",
    "    # if df2.loc[i, 'logD'] >= -14 and df2.loc[i, 'logD'] <= -10:\n",
    "        MyBestZIF.loc[i, ['type']] =  dfRatios.loc[j, ['type']]\n",
    "        MyBestZIF.loc[i, ['MetalNum']] =  dfRatios.loc[j, ['MetalNum']]\n",
    "        MyBestZIF.loc[i, ['linker_length1']] =  dfRatios.loc[j, ['linker_length1']]\n",
    "        MyBestZIF.loc[i, ['linker_length2']] =  dfRatios.loc[j, ['linker_length2']]\n",
    "        MyBestZIF.loc[i, ['linker_length3']] =  dfRatios.loc[j, ['linker_length3']]\n",
    "        MyBestZIF.loc[i, ['func1_length']] =  dfRatios.loc[j, ['func1_length']]\n",
    "        MyBestZIF.loc[i, ['func2_length']] =  dfRatios.loc[j, ['func2_length']]\n",
    "        MyBestZIF.loc[i, ['func3_length']] =  dfRatios.loc[j, ['func3_length']]\n",
    "        MyBestZIF.loc[i, ['logD_o2']] =  dfRatios.loc[j, ['logD_o2']]\n",
    "        MyBestZIF.loc[i, ['logD_n2']] =  dfRatios.loc[j, ['logD_n2']]\n",
    "        MyBestZIF.loc[i, ['ratio']] =  dfRatios.loc[j, ['ratio']]\n",
    "    else:\n",
    "        NotGoodZIF.loc[i, ['type']] =  dfRatios.loc[j, ['type']]\n",
    "        NotGoodZIF.loc[i, ['MetalNum']] =  dfRatios.loc[j, ['MetalNum']]\n",
    "        NotGoodZIF.loc[i, ['linker_length1']] =  dfRatios.loc[j, ['linker_length1']]\n",
    "        NotGoodZIF.loc[i, ['linker_length2']] =  dfRatios.loc[j, ['linker_length2']]\n",
    "        NotGoodZIF.loc[i, ['linker_length3']] =  dfRatios.loc[j, ['linker_length3']]\n",
    "        NotGoodZIF.loc[i, ['func1_length']] =  dfRatios.loc[j, ['func1_length']]\n",
    "        NotGoodZIF.loc[i, ['func2_length']] =  dfRatios.loc[j, ['func2_length']]\n",
    "        NotGoodZIF.loc[i, ['func3_length']] =  dfRatios.loc[j, ['func3_length']]\n",
    "        NotGoodZIF.loc[i, ['logD_o2']] =  dfRatios.loc[j, ['logD_o2']]\n",
    "        NotGoodZIF.loc[i, ['logD_n2']] =  dfRatios.loc[j, ['logD_n2']]\n",
    "        NotGoodZIF.loc[i, ['ratio']] =  dfRatios.loc[j, ['ratio']]"
   ]
  },
  {
   "cell_type": "code",
   "execution_count": null,
   "metadata": {},
   "outputs": [],
   "source": [
    "MyBestZIF.sort_values(by=['ratio'], ascending=True)"
   ]
  },
  {
   "cell_type": "code",
   "execution_count": null,
   "metadata": {},
   "outputs": [],
   "source": [
    "MyBestZIF.groupby('type').count().sort_values(by=['ratio'], ascending=False)"
   ]
  },
  {
   "cell_type": "code",
   "execution_count": null,
   "metadata": {},
   "outputs": [],
   "source": [
    "NotGoodZIF"
   ]
  },
  {
   "cell_type": "code",
   "execution_count": null,
   "metadata": {},
   "outputs": [],
   "source": [
    "list(myidx.nearest(pointToRectangle((dfFiveBest.loc[18]))))"
   ]
  },
  {
   "cell_type": "code",
   "execution_count": null,
   "metadata": {},
   "outputs": [],
   "source": [
    "dfRatios.loc[10]"
   ]
  },
  {
   "cell_type": "code",
   "execution_count": null,
   "metadata": {},
   "outputs": [],
   "source": []
  },
  {
   "cell_type": "code",
   "execution_count": null,
   "metadata": {},
   "outputs": [],
   "source": [
    "MyBestZIF2=MyBestZIF.drop_duplicates().reset_index()"
   ]
  },
  {
   "cell_type": "code",
   "execution_count": null,
   "metadata": {},
   "outputs": [],
   "source": [
    "MyBestZIF2 = MyBestZIF2.drop(columns=['index', 'logD_o2', 'logD_n2','ratio', 'type'])\n",
    "MyBestZIF2"
   ]
  },
  {
   "cell_type": "code",
   "execution_count": null,
   "metadata": {},
   "outputs": [],
   "source": [
    "p = index.Property()\n",
    "p.dimension = 7\n",
    "myidx2 = index.Index(properties=p, interleaved=False)"
   ]
  },
  {
   "cell_type": "code",
   "execution_count": null,
   "metadata": {},
   "outputs": [],
   "source": [
    "myPoints2 = dict()\n",
    "\n",
    "for i in range(0, len(dfFiveBest)):\n",
    "    myPoints2[i] = dfFiveBest.loc[i]"
   ]
  },
  {
   "cell_type": "code",
   "execution_count": null,
   "metadata": {},
   "outputs": [],
   "source": [
    "p.dimension = 7\n",
    "myidx2 = index.Index(properties=p, interleaved=False)\n",
    "\n",
    "for idx in myPoints2:\n",
    "    myidx2.insert(idx, pointToRectangle(myPoints2[idx]))"
   ]
  },
  {
   "cell_type": "code",
   "execution_count": null,
   "metadata": {},
   "outputs": [],
   "source": [
    "listofBest2 = list()\n",
    "\n",
    "for i in range(0, len(MyBestZIF2)):\n",
    "# for i in range(1, len(dfSol3)):\n",
    "    nearestNeighbour2 = list(myidx2.nearest(pointToRectangle((MyBestZIF2.loc[i])),2))\n",
    "    # nearestNeighbour2 = list(myidx2.nearest(pointToRectangle((MyBestZIF2.loc[i]))))\n",
    "\n",
    "    listofBest2.extend(nearestNeighbour2)"
   ]
  },
  {
   "cell_type": "code",
   "execution_count": null,
   "metadata": {},
   "outputs": [],
   "source": [
    "# list(myidx2.nearest(pointToRectangle((MyBestZIF2.loc[0]))))\n",
    "listofBest2"
   ]
  },
  {
   "cell_type": "code",
   "execution_count": null,
   "metadata": {},
   "outputs": [],
   "source": [
    "dfFiveBest.loc[1]"
   ]
  },
  {
   "cell_type": "code",
   "execution_count": null,
   "metadata": {},
   "outputs": [],
   "source": [
    "list(myidx.nearest(pointToRectangle((dfFiveBest.loc[1]))))"
   ]
  },
  {
   "cell_type": "code",
   "execution_count": null,
   "metadata": {},
   "outputs": [],
   "source": [
    "dfRatios.loc[14]"
   ]
  },
  {
   "cell_type": "code",
   "execution_count": null,
   "metadata": {},
   "outputs": [],
   "source": [
    "48.0\t4.438\t4.438\t5.996\t3.78\t4.093\t4.25"
   ]
  },
  {
   "cell_type": "code",
   "execution_count": null,
   "metadata": {},
   "outputs": [],
   "source": [
    "list(myidx.nearest(pointToRectangle((dfFiveBest.loc[1]))))"
   ]
  },
  {
   "cell_type": "code",
   "execution_count": null,
   "metadata": {},
   "outputs": [],
   "source": [
    "list(myidx.nearest(pointToRectangle((48, 4.438, 4.438, 5.996, 3.78, 3.78, 4.25))))"
   ]
  },
  {
   "cell_type": "code",
   "execution_count": null,
   "metadata": {},
   "outputs": [],
   "source": [
    "dfRatios.loc[28]"
   ]
  },
  {
   "cell_type": "code",
   "execution_count": null,
   "metadata": {},
   "outputs": [],
   "source": []
  }
 ],
 "metadata": {
  "kernelspec": {
   "display_name": "base",
   "language": "python",
   "name": "python3"
  },
  "language_info": {
   "codemirror_mode": {
    "name": "ipython",
    "version": 3
   },
   "file_extension": ".py",
   "mimetype": "text/x-python",
   "name": "python",
   "nbconvert_exporter": "python",
   "pygments_lexer": "ipython3",
   "version": "3.8.13"
  },
  "vscode": {
   "interpreter": {
    "hash": "4ffebdd25d21889109a1367ee45445830c00399d8ea08196f3e5d4bbcc58e8eb"
   }
  }
 },
 "nbformat": 4,
 "nbformat_minor": 4
}
